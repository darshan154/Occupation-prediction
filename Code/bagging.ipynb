{
 "cells": [
  {
   "cell_type": "code",
   "execution_count": null,
   "metadata": {
    "colab": {
     "base_uri": "https://localhost:8080/"
    },
    "id": "q8Y13WhpYXck",
    "outputId": "c48017be-15ee-4bb0-b374-723afd46a0bc"
   },
   "outputs": [
    {
     "name": "stdout",
     "output_type": "stream",
     "text": [
      "Cloning into 'data'...\n",
      "remote: Enumerating objects: 1972, done.\u001b[K\n",
      "remote: Counting objects: 100% (1972/1972), done.\u001b[K\n",
      "remote: Compressing objects: 100% (1970/1970), done.\u001b[K\n",
      "remote: Total 1972 (delta 9), reused 1963 (delta 0), pack-reused 0\u001b[K\n",
      "Receiving objects: 100% (1972/1972), 4.66 MiB | 31.80 MiB/s, done.\n",
      "Resolving deltas: 100% (9/9), done.\n"
     ]
    }
   ],
   "source": [
    "!git clone https://github.com/darshan154/data.git"
   ]
  },
  {
   "cell_type": "code",
   "execution_count": null,
   "metadata": {
    "id": "JSGZxDj4YdoJ"
   },
   "outputs": [],
   "source": [
    "from tensorflow.keras.preprocessing.image import ImageDataGenerator\n",
    "from tensorflow.keras.optimizers import Adam\n",
    "from tensorflow.keras.preprocessing.image import img_to_array\n",
    "from tensorflow.keras.utils import to_categorical, plot_model\n",
    "from tensorflow.keras.models import Sequential\n",
    "from tensorflow.keras.layers import BatchNormalization, Conv2D, MaxPooling2D, Activation, Flatten, Dropout, Dense\n",
    "from tensorflow.keras import backend as K\n",
    "from sklearn.model_selection import train_test_split\n",
    "from tensorflow.keras import callbacks\n",
    "from numpy import asarray\n",
    "from sklearn import metrics\n",
    "\n",
    "import matplotlib.pyplot as plt\n",
    "import numpy as np\n",
    "import random\n",
    "import cv2\n",
    "import os\n",
    "import glob"
   ]
  },
  {
   "cell_type": "code",
   "execution_count": null,
   "metadata": {
    "id": "av0gc6IJYek3"
   },
   "outputs": [],
   "source": [
    "from PIL import Image\n",
    "import glob\n",
    "train_file = []\n",
    "for filename in glob.glob(r\"./data/occ240/occupation/train/\" + \"/**/*\", recursive=True): #assuming gif\n",
    "    # im=Image.open(filename)\n",
    "    train_file.append(filename)\n",
    "\n",
    "test_file = []\n",
    "for filename in glob.glob(r\"./data/occ240/occupation/test/\" + \"/**/*\", recursive=True): #assuming gif\n",
    "    # im=Image.open(filename)\n",
    "    test_file.append(filename)"
   ]
  },
  {
   "cell_type": "code",
   "execution_count": null,
   "metadata": {
    "colab": {
     "base_uri": "https://localhost:8080/"
    },
    "id": "VeQOPkHOYfuv",
    "outputId": "5dca85f3-a1a8-4ec7-f001-e2db3483375a"
   },
   "outputs": [
    {
     "name": "stdout",
     "output_type": "stream",
     "text": [
      "1205\n"
     ]
    }
   ],
   "source": [
    "random.shuffle(train_file)\n",
    "# random.shuffle(test_file)\n",
    "print(len(train_file))"
   ]
  },
  {
   "cell_type": "code",
   "execution_count": null,
   "metadata": {
    "id": "yM916_OwYgxA"
   },
   "outputs": [],
   "source": [
    "label = {\"doctor\":0, \"news\":1, \"player\":2, \"police\":3, \"teachers\": 4}"
   ]
  },
  {
   "cell_type": "code",
   "execution_count": null,
   "metadata": {
    "colab": {
     "base_uri": "https://localhost:8080/"
    },
    "id": "RLpUgI8dYh8H",
    "outputId": "c032d1d8-0b5b-4b5c-9d9d-990a9eb5bae4"
   },
   "outputs": [
    {
     "name": "stdout",
     "output_type": "stream",
     "text": [
      "a\n",
      "a\n",
      "a\n",
      "a\n",
      "a\n",
      "b\n",
      "b\n",
      "b\n",
      "b\n",
      "b\n"
     ]
    }
   ],
   "source": [
    "trainx = []\n",
    "testx = []\n",
    "trainy = []\n",
    "testy = []\n",
    "\n",
    "for img in train_file:\n",
    "  try:\n",
    "    image = cv2.imread(img)\n",
    "    image = cv2.resize(image, (64, 64))\n",
    "    image = img_to_array(image)\n",
    "    trainx.append(image)\n",
    "\n",
    "    lbl = img.split(os.path.sep)[-2] # C:\\Files\\gender_dataset_face\\woman\\face_1162.jpg\n",
    "    l = label[lbl]\n",
    "        \n",
    "    trainy.append([l]) # [[1], [0], [0], ...]\n",
    "\n",
    "  except:\n",
    "    print(\"a\")\n",
    "    \n",
    "\n",
    "for img in test_file:\n",
    "  try:\n",
    "    image = cv2.imread(img)\n",
    "    image = cv2.resize(image, (64, 64))\n",
    "    image = img_to_array(image)\n",
    "    testx.append(image)\n",
    "\n",
    "    lbl = img.split(os.path.sep)[-2] # C:\\Files\\gender_dataset_face\\woman\\face_1162.jpg\n",
    "    l = label[lbl]\n",
    "        \n",
    "    # trainy.append([l])\n",
    "        \n",
    "    testy.append([l]) # [[1], [0], [0], ...]\n",
    "  except:\n",
    "    print(\"b\")"
   ]
  },
  {
   "cell_type": "code",
   "execution_count": null,
   "metadata": {
    "id": "K2eIpBFuYjYG"
   },
   "outputs": [],
   "source": [
    "trainx = np.array(trainx, dtype=\"float\")/255.0\n",
    "testx = np.array(testx, dtype=\"float\")/255.0"
   ]
  },
  {
   "cell_type": "code",
   "execution_count": null,
   "metadata": {
    "colab": {
     "base_uri": "https://localhost:8080/"
    },
    "id": "gIwXN0bqYk7y",
    "outputId": "99c6c56d-8e44-46b1-fccf-2bb05003aa62"
   },
   "outputs": [
    {
     "name": "stdout",
     "output_type": "stream",
     "text": [
      "Downloading data from https://storage.googleapis.com/tensorflow/keras-applications/vgg16/vgg16_weights_tf_dim_ordering_tf_kernels_notop.h5\n",
      "58892288/58889256 [==============================] - 0s 0us/step\n",
      "58900480/58889256 [==============================] - 0s 0us/step\n"
     ]
    }
   ],
   "source": [
    "# # example of tending the vgg16 model\n",
    "import keras\n",
    "from keras.applications.vgg16 import VGG16\n",
    "from keras.models import Model\n",
    "from keras.layers import Dense\n",
    "from keras.layers import MaxPooling2D\n",
    "from keras.layers import Flatten\n",
    "import math\n",
    "# load model without classifier layers\n",
    "base_model = VGG16(include_top=False, weights='imagenet', input_shape=(64, 64, 3))\n",
    "\n",
    "win1 = math.ceil(16/1)\n",
    "str1 = math.floor(16/1)\n",
    "\n",
    "win2 = math.ceil(16/2)\n",
    "str2 = math.floor(16/2)\n",
    "\n",
    "win3 = math.ceil(16/4)\n",
    "str3 = math.floor(16/4)\n",
    "\n",
    "# win4 = math.ceil(16/8)\n",
    "# str4 = math.floor(16/8)\n",
    "\n",
    "l1 = keras.layers.MaxPooling2D(pool_size=(win1), strides=str1, padding=\"valid\")(base_model.layers[-12].output)\n",
    "l2 = keras.layers.MaxPooling2D(pool_size=(win2), strides=str2, padding=\"valid\")(base_model.layers[-12].output)\n",
    "l3 = keras.layers.MaxPooling2D(pool_size=(win3), strides=str3, padding=\"valid\")(base_model.layers[-12].output)\n",
    "# l4 = keras.layers.MaxPooling2D(pool_size=(win4), strides=str4, padding=\"valid\")(base_model.layers[-10].output)\n",
    "\n",
    "\n",
    "\n",
    "flat1 = Flatten()(l1)\n",
    "flat2 = Flatten()(l2)\n",
    "flat3 = Flatten()(l3)\n",
    "# flat4 = Flatten()(l4)\n",
    "\n",
    "# class1 = Dense(4096, activation='relu')(flat1)\n",
    "# # define new model\n",
    "\n",
    "for layer in base_model.layers:\n",
    "    layer.trainable = False\n",
    "\n",
    "# b1 = Model(inputs=base_model.inputs, outputs=flat1)\n",
    "# b2 = Model(inputs=base_model.inputs, outputs=flat2)\n",
    "# b3 = Model(inputs=base_model.inputs, outputs=flat3)\n",
    "\n",
    "model = Model(inputs=base_model.inputs, outputs=[flat1, flat2, flat3])\n",
    "\n",
    "# combined = np.concatenate([b1.output, b2.output, b3.output])"
   ]
  },
  {
   "cell_type": "code",
   "execution_count": null,
   "metadata": {
    "colab": {
     "base_uri": "https://localhost:8080/"
    },
    "id": "peaznj5vYsYh",
    "outputId": "8895e2e9-caa0-4a35-9e4d-5cf62eb161f5"
   },
   "outputs": [
    {
     "name": "stdout",
     "output_type": "stream",
     "text": [
      "Model: \"model\"\n",
      "__________________________________________________________________________________________________\n",
      " Layer (type)                   Output Shape         Param #     Connected to                     \n",
      "==================================================================================================\n",
      " input_1 (InputLayer)           [(None, 64, 64, 3)]  0           []                               \n",
      "                                                                                                  \n",
      " block1_conv1 (Conv2D)          (None, 64, 64, 64)   1792        ['input_1[0][0]']                \n",
      "                                                                                                  \n",
      " block1_conv2 (Conv2D)          (None, 64, 64, 64)   36928       ['block1_conv1[0][0]']           \n",
      "                                                                                                  \n",
      " block1_pool (MaxPooling2D)     (None, 32, 32, 64)   0           ['block1_conv2[0][0]']           \n",
      "                                                                                                  \n",
      " block2_conv1 (Conv2D)          (None, 32, 32, 128)  73856       ['block1_pool[0][0]']            \n",
      "                                                                                                  \n",
      " block2_conv2 (Conv2D)          (None, 32, 32, 128)  147584      ['block2_conv1[0][0]']           \n",
      "                                                                                                  \n",
      " block2_pool (MaxPooling2D)     (None, 16, 16, 128)  0           ['block2_conv2[0][0]']           \n",
      "                                                                                                  \n",
      " block3_conv1 (Conv2D)          (None, 16, 16, 256)  295168      ['block2_pool[0][0]']            \n",
      "                                                                                                  \n",
      " max_pooling2d (MaxPooling2D)   (None, 1, 1, 256)    0           ['block3_conv1[0][0]']           \n",
      "                                                                                                  \n",
      " max_pooling2d_1 (MaxPooling2D)  (None, 2, 2, 256)   0           ['block3_conv1[0][0]']           \n",
      "                                                                                                  \n",
      " max_pooling2d_2 (MaxPooling2D)  (None, 4, 4, 256)   0           ['block3_conv1[0][0]']           \n",
      "                                                                                                  \n",
      " flatten (Flatten)              (None, 256)          0           ['max_pooling2d[0][0]']          \n",
      "                                                                                                  \n",
      " flatten_1 (Flatten)            (None, 1024)         0           ['max_pooling2d_1[0][0]']        \n",
      "                                                                                                  \n",
      " flatten_2 (Flatten)            (None, 4096)         0           ['max_pooling2d_2[0][0]']        \n",
      "                                                                                                  \n",
      "==================================================================================================\n",
      "Total params: 555,328\n",
      "Trainable params: 0\n",
      "Non-trainable params: 555,328\n",
      "__________________________________________________________________________________________________\n"
     ]
    }
   ],
   "source": [
    "model.summary()"
   ]
  },
  {
   "cell_type": "code",
   "execution_count": null,
   "metadata": {
    "id": "6fp1nb5oYvSW"
   },
   "outputs": [],
   "source": [
    "trainy = np.array(trainy)\n",
    "testy = np.array(testy)"
   ]
  },
  {
   "cell_type": "code",
   "execution_count": null,
   "metadata": {
    "id": "ZetdqQuvYxJ2"
   },
   "outputs": [],
   "source": [
    "from sklearn.ensemble import BaggingClassifier\n",
    "from sklearn.svm import SVC\n",
    "\n",
    "svc=SVC(probability=True, kernel=\"linear\")\n",
    "clf = BaggingClassifier(base_estimator=svc, n_estimators=21)"
   ]
  },
  {
   "cell_type": "code",
   "execution_count": null,
   "metadata": {
    "id": "9Ai6DhA1Y6iJ"
   },
   "outputs": [],
   "source": [
    "a = model.predict(trainx)\n",
    "b = model.predict(testx)"
   ]
  },
  {
   "cell_type": "code",
   "execution_count": null,
   "metadata": {
    "id": "a80B3ahdY8pF"
   },
   "outputs": [],
   "source": [
    "a = np.hstack([a[0], a[1], a[2]])\n",
    "b = np.hstack([b[0], b[1], b[2]])"
   ]
  },
  {
   "cell_type": "code",
   "execution_count": null,
   "metadata": {
    "colab": {
     "base_uri": "https://localhost:8080/"
    },
    "id": "HT8dr185ZCnH",
    "outputId": "b94eb3be-d3ab-4878-c83a-13f1b02b5bff"
   },
   "outputs": [
    {
     "name": "stderr",
     "output_type": "stream",
     "text": [
      "/usr/local/lib/python3.7/dist-packages/sklearn/ensemble/_bagging.py:719: DataConversionWarning: A column-vector y was passed when a 1d array was expected. Please change the shape of y to (n_samples, ), for example using ravel().\n",
      "  y = column_or_1d(y, warn=True)\n"
     ]
    }
   ],
   "source": [
    "clfmodel = clf.fit(a, trainy)"
   ]
  },
  {
   "cell_type": "code",
   "execution_count": null,
   "metadata": {
    "id": "vME0LdGrZFta"
   },
   "outputs": [],
   "source": [
    "y_pred = clfmodel.predict(b)\n",
    "# print(\"Accuracy:\",metrics.accuracy_score(testy, y_pred))"
   ]
  },
  {
   "cell_type": "code",
   "execution_count": null,
   "metadata": {
    "colab": {
     "base_uri": "https://localhost:8080/",
     "height": 573
    },
    "id": "wNaEnTvkZHnT",
    "outputId": "01234313-267b-4579-c821-2df993e01929"
   },
   "outputs": [
    {
     "name": "stdout",
     "output_type": "stream",
     "text": [
      "Collecting scikit-plot\n",
      "  Downloading scikit_plot-0.3.7-py3-none-any.whl (33 kB)\n",
      "Requirement already satisfied: joblib>=0.10 in /usr/local/lib/python3.7/dist-packages (from scikit-plot) (1.1.0)\n",
      "Requirement already satisfied: scipy>=0.9 in /usr/local/lib/python3.7/dist-packages (from scikit-plot) (1.4.1)\n",
      "Requirement already satisfied: matplotlib>=1.4.0 in /usr/local/lib/python3.7/dist-packages (from scikit-plot) (3.2.2)\n",
      "Requirement already satisfied: scikit-learn>=0.18 in /usr/local/lib/python3.7/dist-packages (from scikit-plot) (1.0.2)\n",
      "Requirement already satisfied: cycler>=0.10 in /usr/local/lib/python3.7/dist-packages (from matplotlib>=1.4.0->scikit-plot) (0.11.0)\n",
      "Requirement already satisfied: numpy>=1.11 in /usr/local/lib/python3.7/dist-packages (from matplotlib>=1.4.0->scikit-plot) (1.21.5)\n",
      "Requirement already satisfied: pyparsing!=2.0.4,!=2.1.2,!=2.1.6,>=2.0.1 in /usr/local/lib/python3.7/dist-packages (from matplotlib>=1.4.0->scikit-plot) (3.0.7)\n",
      "Requirement already satisfied: python-dateutil>=2.1 in /usr/local/lib/python3.7/dist-packages (from matplotlib>=1.4.0->scikit-plot) (2.8.2)\n",
      "Requirement already satisfied: kiwisolver>=1.0.1 in /usr/local/lib/python3.7/dist-packages (from matplotlib>=1.4.0->scikit-plot) (1.4.0)\n",
      "Requirement already satisfied: typing-extensions in /usr/local/lib/python3.7/dist-packages (from kiwisolver>=1.0.1->matplotlib>=1.4.0->scikit-plot) (3.10.0.2)\n",
      "Requirement already satisfied: six>=1.5 in /usr/local/lib/python3.7/dist-packages (from python-dateutil>=2.1->matplotlib>=1.4.0->scikit-plot) (1.15.0)\n",
      "Requirement already satisfied: threadpoolctl>=2.0.0 in /usr/local/lib/python3.7/dist-packages (from scikit-learn>=0.18->scikit-plot) (3.1.0)\n",
      "Installing collected packages: scikit-plot\n",
      "Successfully installed scikit-plot-0.3.7\n"
     ]
    },
    {
     "data": {
      "image/png": "[encoded data removed]",
      "text/plain": [
       "<Figure size 432x288 with 2 Axes>"
      ]
     },
     "metadata": {
      "needs_background": "light"
     },
     "output_type": "display_data"
    }
   ],
   "source": [
    "!pip install scikit-plot\n",
    "#60\n",
    "import matplotlib.pyplot as plt\n",
    "import scikitplot as skplt\n",
    "#Normalized confusion matrix for the K-NN model\n",
    "skplt.metrics.plot_confusion_matrix(testy, y_pred, normalize=True)\n",
    "plt.show()\n"
   ]
  },
  {
   "cell_type": "code",
   "execution_count": null,
   "metadata": {
    "id": "u84tqFTGZK2Q"
   },
   "outputs": [],
   "source": []
  }
 ],
 "metadata": {
  "accelerator": "GPU",
  "colab": {
   "name": "bagging_SP.ipynb",
   "provenance": []
  },
  "kernelspec": {
   "display_name": "Python 3",
   "language": "python",
   "name": "python3"
  },
  "language_info": {
   "codemirror_mode": {
    "name": "ipython",
    "version": 3
   },
   "file_extension": ".py",
   "mimetype": "text/x-python",
   "name": "python",
   "nbconvert_exporter": "python",
   "pygments_lexer": "ipython3",
   "version": "3.9.4"
  }
 },
 "nbformat": 4,
 "nbformat_minor": 1
}
