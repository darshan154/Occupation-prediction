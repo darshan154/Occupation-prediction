{
 "cells": [
  {
   "cell_type": "code",
   "execution_count": 1,
   "metadata": {
    "colab": {
     "base_uri": "https://localhost:8080/"
    },
    "id": "9dFPpqrSjGoD",
    "outputId": "f09fd858-b24d-48fd-ace1-3b759ca3bc51"
   },
   "outputs": [
    {
     "name": "stdout",
     "output_type": "stream",
     "text": [
      "Cloning into 'db2'...\n",
      "remote: Enumerating objects: 6624, done.\u001b[K\n",
      "remote: Counting objects: 100% (6624/6624), done.\u001b[K\n",
      "remote: Compressing objects: 100% (6525/6525), done.\u001b[K\n",
      "remote: Total 6624 (delta 136), reused 6586 (delta 98), pack-reused 0\u001b[K\n",
      "Receiving objects: 100% (6624/6624), 9.88 MiB | 26.77 MiB/s, done.\n",
      "Resolving deltas: 100% (136/136), done.\n"
     ]
    }
   ],
   "source": [
    "!git clone https://github.com/darshan154/db2.git"
   ]
  },
  {
   "cell_type": "code",
   "execution_count": 2,
   "metadata": {
    "id": "3NcRpg7ujO1S"
   },
   "outputs": [],
   "source": [
    "from tensorflow.keras.preprocessing.image import ImageDataGenerator\n",
    "from tensorflow.keras.optimizers import Adam\n",
    "from tensorflow.keras.preprocessing.image import img_to_array\n",
    "from tensorflow.keras.utils import to_categorical, plot_model\n",
    "from tensorflow.keras.models import Sequential\n",
    "from tensorflow.keras.layers import BatchNormalization, Conv2D, MaxPooling2D, Activation, Flatten, Dropout, Dense\n",
    "from tensorflow.keras import backend as K\n",
    "from sklearn.model_selection import train_test_split\n",
    "from tensorflow.keras import callbacks\n",
    "from numpy import asarray\n",
    "from sklearn import metrics\n",
    "\n",
    "import matplotlib.pyplot as plt\n",
    "import numpy as np\n",
    "import random\n",
    "import cv2\n",
    "import os\n",
    "import glob"
   ]
  },
  {
   "cell_type": "code",
   "execution_count": 3,
   "metadata": {
    "id": "UF3fdEXOjXVV"
   },
   "outputs": [],
   "source": [
    "from PIL import Image\n",
    "import glob\n",
    "data = []\n",
    "for filename in glob.glob(r\"./db2/data/\" + \"/**/*\", recursive=True): #assuming gif\n",
    "    # im=Image.open(filename)\n",
    "    data.append(filename)"
   ]
  },
  {
   "cell_type": "code",
   "execution_count": 4,
   "metadata": {
    "id": "mXfsYoKvjhMp"
   },
   "outputs": [],
   "source": [
    "label = {\"anchor\":0, \"athlete\":1, \"doctor\":2, \"farmer\":3, \"professor\": 4}"
   ]
  },
  {
   "cell_type": "code",
   "execution_count": 5,
   "metadata": {
    "colab": {
     "base_uri": "https://localhost:8080/"
    },
    "id": "wKuu2i0ijt83",
    "outputId": "5b3ee828-4987-4d2c-83a0-27a57c86bbf7"
   },
   "outputs": [
    {
     "name": "stdout",
     "output_type": "stream",
     "text": [
      "Corrupt\n",
      "Corrupt\n",
      "Corrupt\n",
      "Corrupt\n",
      "Corrupt\n"
     ]
    }
   ],
   "source": [
    "y = []\n",
    "x = []\n",
    "for img in data:\n",
    "  try:\n",
    "    image = cv2.imread(img)\n",
    "    image = cv2.resize(image, (64, 64))\n",
    "    image = img_to_array(image)\n",
    "    x.append(image)\n",
    "\n",
    "    lbl = img.split(os.path.sep)[-2] # C:\\Files\\gender_dataset_face\\woman\\face_1162.jpg\n",
    "    l = label[lbl]\n",
    "        \n",
    "    y.append([l]) # [[1], [0], [0], ...]\n",
    "\n",
    "  except:\n",
    "    print(\"Corrupt\")"
   ]
  },
  {
   "cell_type": "code",
   "execution_count": 6,
   "metadata": {
    "id": "5eoOtRcXkSbc"
   },
   "outputs": [],
   "source": [
    "from sklearn.model_selection import train_test_split\n",
    "\n",
    "X_train, X_test, y_train, y_test = train_test_split(x, y, test_size=0.25, random_state=42)"
   ]
  },
  {
   "cell_type": "code",
   "execution_count": 7,
   "metadata": {
    "id": "TGwNMU-mkqVr"
   },
   "outputs": [],
   "source": [
    "trainx = np.array(X_train, dtype=\"float\")/255.0\n",
    "testx = np.array(X_test, dtype=\"float\")/255.0\n",
    "trainy = np.array(y_train)\n",
    "testy = np.array(y_test)"
   ]
  },
  {
   "cell_type": "code",
   "execution_count": 8,
   "metadata": {
    "colab": {
     "base_uri": "https://localhost:8080/"
    },
    "id": "ELTj1GN0ktfS",
    "outputId": "94dc80cf-07a9-4737-8491-ed5e0a1bf05e"
   },
   "outputs": [
    {
     "name": "stdout",
     "output_type": "stream",
     "text": [
      "Downloading data from https://storage.googleapis.com/tensorflow/keras-applications/vgg16/vgg16_weights_tf_dim_ordering_tf_kernels_notop.h5\n",
      "58892288/58889256 [==============================] - 1s 0us/step\n",
      "58900480/58889256 [==============================] - 1s 0us/step\n"
     ]
    }
   ],
   "source": [
    "# # example of tending the vgg16 model\n",
    "import keras\n",
    "from keras.applications.vgg16 import VGG16\n",
    "from keras.models import Model\n",
    "from keras.layers import Dense\n",
    "from keras.layers import MaxPooling2D\n",
    "from keras.layers import Flatten\n",
    "import math\n",
    "# load model without classifier layers\n",
    "base_model = VGG16(include_top=False, weights='imagenet', input_shape=(64, 64, 3))\n",
    "\n",
    "win1 = math.ceil(16/1)\n",
    "str1 = math.floor(16/1)\n",
    "\n",
    "win2 = math.ceil(16/2)\n",
    "str2 = math.floor(16/2)\n",
    "\n",
    "win3 = math.ceil(16/4)\n",
    "str3 = math.floor(16/4)\n",
    "\n",
    "win4 = math.ceil(16/8)\n",
    "str4 = math.floor(16/8)\n",
    "\n",
    "l1 = keras.layers.MaxPooling2D(pool_size=(win1), strides=str1, padding=\"valid\")(base_model.layers[-12].output)\n",
    "l2 = keras.layers.MaxPooling2D(pool_size=(win2), strides=str2, padding=\"valid\")(base_model.layers[-12].output)\n",
    "l3 = keras.layers.MaxPooling2D(pool_size=(win3), strides=str3, padding=\"valid\")(base_model.layers[-12].output)\n",
    "# l4 = keras.layers.MaxPooling2D(pool_size=(win4), strides=str4, padding=\"valid\")(base_model.layers[-10].output)\n",
    "\n",
    "\n",
    "\n",
    "flat1 = Flatten()(l1)\n",
    "flat2 = Flatten()(l2)\n",
    "flat3 = Flatten()(l3)\n",
    "# flat4 = Flatten()(l4)\n",
    "\n",
    "# class1 = Dense(4096, activation='relu')(flat1)\n",
    "# # define new model\n",
    "\n",
    "for layer in base_model.layers:\n",
    "    layer.trainable = False\n",
    "\n",
    "\n",
    "model = Model(inputs=base_model.inputs, outputs=[flat1, flat2, flat3])\n",
    "\n",
    "# combined = np.concatenate([b1.output, b2.output, b3.output])"
   ]
  },
  {
   "cell_type": "code",
   "execution_count": 9,
   "metadata": {
    "colab": {
     "base_uri": "https://localhost:8080/"
    },
    "id": "ShhsxIBnlJ6i",
    "outputId": "5aecc956-a649-4470-e998-1718fd89bf3b"
   },
   "outputs": [
    {
     "name": "stdout",
     "output_type": "stream",
     "text": [
      "Model: \"model\"\n",
      "__________________________________________________________________________________________________\n",
      " Layer (type)                   Output Shape         Param #     Connected to                     \n",
      "==================================================================================================\n",
      " input_1 (InputLayer)           [(None, 64, 64, 3)]  0           []                               \n",
      "                                                                                                  \n",
      " block1_conv1 (Conv2D)          (None, 64, 64, 64)   1792        ['input_1[0][0]']                \n",
      "                                                                                                  \n",
      " block1_conv2 (Conv2D)          (None, 64, 64, 64)   36928       ['block1_conv1[0][0]']           \n",
      "                                                                                                  \n",
      " block1_pool (MaxPooling2D)     (None, 32, 32, 64)   0           ['block1_conv2[0][0]']           \n",
      "                                                                                                  \n",
      " block2_conv1 (Conv2D)          (None, 32, 32, 128)  73856       ['block1_pool[0][0]']            \n",
      "                                                                                                  \n",
      " block2_conv2 (Conv2D)          (None, 32, 32, 128)  147584      ['block2_conv1[0][0]']           \n",
      "                                                                                                  \n",
      " block2_pool (MaxPooling2D)     (None, 16, 16, 128)  0           ['block2_conv2[0][0]']           \n",
      "                                                                                                  \n",
      " block3_conv1 (Conv2D)          (None, 16, 16, 256)  295168      ['block2_pool[0][0]']            \n",
      "                                                                                                  \n",
      " max_pooling2d (MaxPooling2D)   (None, 1, 1, 256)    0           ['block3_conv1[0][0]']           \n",
      "                                                                                                  \n",
      " max_pooling2d_1 (MaxPooling2D)  (None, 2, 2, 256)   0           ['block3_conv1[0][0]']           \n",
      "                                                                                                  \n",
      " max_pooling2d_2 (MaxPooling2D)  (None, 4, 4, 256)   0           ['block3_conv1[0][0]']           \n",
      "                                                                                                  \n",
      " flatten (Flatten)              (None, 256)          0           ['max_pooling2d[0][0]']          \n",
      "                                                                                                  \n",
      " flatten_1 (Flatten)            (None, 1024)         0           ['max_pooling2d_1[0][0]']        \n",
      "                                                                                                  \n",
      " flatten_2 (Flatten)            (None, 4096)         0           ['max_pooling2d_2[0][0]']        \n",
      "                                                                                                  \n",
      "==================================================================================================\n",
      "Total params: 555,328\n",
      "Trainable params: 0\n",
      "Non-trainable params: 555,328\n",
      "__________________________________________________________________________________________________\n"
     ]
    }
   ],
   "source": [
    "model.summary()"
   ]
  },
  {
   "cell_type": "code",
   "execution_count": 10,
   "metadata": {
    "id": "MsGAxNYGlLRM"
   },
   "outputs": [],
   "source": [
    "from sklearn.ensemble import AdaBoostClassifier\n",
    "from sklearn.svm import SVC"
   ]
  },
  {
   "cell_type": "code",
   "execution_count": 11,
   "metadata": {
    "id": "VPzXkPhDlNpM"
   },
   "outputs": [],
   "source": [
    "svc=SVC(probability=True, kernel=\"linear\")\n",
    "clf = AdaBoostClassifier(n_estimators=21, base_estimator=svc, learning_rate=0.5)"
   ]
  },
  {
   "cell_type": "code",
   "execution_count": 12,
   "metadata": {
    "id": "kOGdjUWKlSHd"
   },
   "outputs": [],
   "source": [
    "train = model.predict(trainx)\n",
    "test = model.predict(testx)"
   ]
  },
  {
   "cell_type": "code",
   "execution_count": 13,
   "metadata": {
    "id": "gyIvtTI2lTqk"
   },
   "outputs": [],
   "source": [
    "train = np.hstack([train[0], train[1], train[2]])\n",
    "test = np.hstack([test[0], test[1], test[2]])"
   ]
  },
  {
   "cell_type": "code",
   "execution_count": 14,
   "metadata": {
    "colab": {
     "base_uri": "https://localhost:8080/"
    },
    "id": "uB6je0lElVNO",
    "outputId": "5fc0f7c5-3a05-4ba3-fb1d-5d8425c89026"
   },
   "outputs": [
    {
     "data": {
      "text/plain": [
       "(750, 5376)"
      ]
     },
     "execution_count": 14,
     "metadata": {},
     "output_type": "execute_result"
    }
   ],
   "source": [
    "train.shape"
   ]
  },
  {
   "cell_type": "code",
   "execution_count": 15,
   "metadata": {
    "colab": {
     "base_uri": "https://localhost:8080/"
    },
    "id": "XfojsYLDlWZe",
    "outputId": "9c6f11e4-1ff8-4f34-9d80-0b7e1dd8bb7a"
   },
   "outputs": [
    {
     "name": "stderr",
     "output_type": "stream",
     "text": [
      "/usr/local/lib/python3.7/dist-packages/sklearn/utils/validation.py:993: DataConversionWarning: A column-vector y was passed when a 1d array was expected. Please change the shape of y to (n_samples, ), for example using ravel().\n",
      "  y = column_or_1d(y, warn=True)\n"
     ]
    }
   ],
   "source": [
    "clfmodel = clf.fit(train, trainy)"
   ]
  },
  {
   "cell_type": "code",
   "execution_count": 16,
   "metadata": {
    "id": "FKkVb4IslX-5"
   },
   "outputs": [],
   "source": [
    "y_pred = clfmodel.predict(test)"
   ]
  },
  {
   "cell_type": "code",
   "execution_count": 17,
   "metadata": {
    "colab": {
     "base_uri": "https://localhost:8080/",
     "height": 573
    },
    "id": "C6IcDyPVlZZn",
    "outputId": "1b8d1798-c786-49df-fb63-81c7657b031e"
   },
   "outputs": [
    {
     "name": "stdout",
     "output_type": "stream",
     "text": [
      "Collecting scikit-plot\n",
      "  Downloading scikit_plot-0.3.7-py3-none-any.whl (33 kB)\n",
      "Requirement already satisfied: joblib>=0.10 in /usr/local/lib/python3.7/dist-packages (from scikit-plot) (1.1.0)\n",
      "Requirement already satisfied: matplotlib>=1.4.0 in /usr/local/lib/python3.7/dist-packages (from scikit-plot) (3.2.2)\n",
      "Requirement already satisfied: scipy>=0.9 in /usr/local/lib/python3.7/dist-packages (from scikit-plot) (1.4.1)\n",
      "Requirement already satisfied: scikit-learn>=0.18 in /usr/local/lib/python3.7/dist-packages (from scikit-plot) (1.0.2)\n",
      "Requirement already satisfied: cycler>=0.10 in /usr/local/lib/python3.7/dist-packages (from matplotlib>=1.4.0->scikit-plot) (0.11.0)\n",
      "Requirement already satisfied: pyparsing!=2.0.4,!=2.1.2,!=2.1.6,>=2.0.1 in /usr/local/lib/python3.7/dist-packages (from matplotlib>=1.4.0->scikit-plot) (3.0.8)\n",
      "Requirement already satisfied: python-dateutil>=2.1 in /usr/local/lib/python3.7/dist-packages (from matplotlib>=1.4.0->scikit-plot) (2.8.2)\n",
      "Requirement already satisfied: numpy>=1.11 in /usr/local/lib/python3.7/dist-packages (from matplotlib>=1.4.0->scikit-plot) (1.21.5)\n",
      "Requirement already satisfied: kiwisolver>=1.0.1 in /usr/local/lib/python3.7/dist-packages (from matplotlib>=1.4.0->scikit-plot) (1.4.2)\n",
      "Requirement already satisfied: typing-extensions in /usr/local/lib/python3.7/dist-packages (from kiwisolver>=1.0.1->matplotlib>=1.4.0->scikit-plot) (4.1.1)\n",
      "Requirement already satisfied: six>=1.5 in /usr/local/lib/python3.7/dist-packages (from python-dateutil>=2.1->matplotlib>=1.4.0->scikit-plot) (1.15.0)\n",
      "Requirement already satisfied: threadpoolctl>=2.0.0 in /usr/local/lib/python3.7/dist-packages (from scikit-learn>=0.18->scikit-plot) (3.1.0)\n",
      "Installing collected packages: scikit-plot\n",
      "Successfully installed scikit-plot-0.3.7\n"
     ]
    },
    {
     "data": {
      "image/png": "[encoded data removed]",
      "text/plain": [
       "<Figure size 432x288 with 2 Axes>"
      ]
     },
     "metadata": {
      "needs_background": "light"
     },
     "output_type": "display_data"
    }
   ],
   "source": [
    "!pip install scikit-plot\n",
    "from sklearn.metrics import confusion_matrix\n",
    "import matplotlib.pyplot as plt\n",
    "import scikitplot as skplt\n",
    "#Normalized confusion matrix for the K-NN model\n",
    "skplt.metrics.plot_confusion_matrix(testy, y_pred, normalize=True)\n",
    "plt.show()\n"
   ]
  },
  {
   "cell_type": "code",
   "execution_count": 18,
   "metadata": {
    "id": "Kimi_-B6lern"
   },
   "outputs": [],
   "source": [
    "# accuray = 76"
   ]
  }
 ],
 "metadata": {
  "accelerator": "GPU",
  "colab": {
   "name": "adaboost_sp_ind.ipynb",
   "provenance": []
  },
  "kernelspec": {
   "display_name": "Python 3",
   "language": "python",
   "name": "python3"
  },
  "language_info": {
   "codemirror_mode": {
    "name": "ipython",
    "version": 3
   },
   "file_extension": ".py",
   "mimetype": "text/x-python",
   "name": "python",
   "nbconvert_exporter": "python",
   "pygments_lexer": "ipython3",
   "version": "3.9.4"
  }
 },
 "nbformat": 4,
 "nbformat_minor": 1
}
