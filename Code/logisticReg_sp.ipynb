{
  "nbformat": 4,
  "nbformat_minor": 0,
  "metadata": {
    "colab": {
      "name": "logisticReg_sp.ipynb",
      "provenance": [],
      "collapsed_sections": []
    },
    "kernelspec": {
      "name": "python3",
      "display_name": "Python 3"
    },
    "language_info": {
      "name": "python"
    },
    "accelerator": "GPU"
  },
  "cells": [
    {
      "cell_type": "code",
      "execution_count": 1,
      "metadata": {
        "colab": {
          "base_uri": "https://localhost:8080/"
        },
        "id": "9HE2IO7XAnvC",
        "outputId": "7dd04b6b-15a4-4059-fbff-f77cce57dfdc"
      },
      "outputs": [
        {
          "output_type": "stream",
          "name": "stdout",
          "text": [
            "Cloning into 'data'...\n",
            "remote: Enumerating objects: 1972, done.\u001b[K\n",
            "remote: Counting objects: 100% (1972/1972), done.\u001b[K\n",
            "remote: Compressing objects: 100% (1970/1970), done.\u001b[K\n",
            "remote: Total 1972 (delta 9), reused 1963 (delta 0), pack-reused 0\u001b[K\n",
            "Receiving objects: 100% (1972/1972), 4.66 MiB | 4.07 MiB/s, done.\n",
            "Resolving deltas: 100% (9/9), done.\n"
          ]
        }
      ],
      "source": [
        "!git clone https://github.com/darshan154/data.git"
      ]
    },
    {
      "cell_type": "code",
      "source": [
        "# from tensorflow.keras.preprocessing.image import ImageDataGenerator\n",
        "# from tensorflow.keras.optimizers import Adam\n",
        "from tensorflow.keras.preprocessing.image import img_to_array\n",
        "# from tensorflow.keras.utils import to_categorical, plot_model\n",
        "# from tensorflow.keras.models import Sequential\n",
        "# from tensorflow.keras.layers import BatchNormalization, Conv2D, MaxPooling2D, Activation, Flatten, Dropout, Dense\n",
        "# from tensorflow.keras import backend as K\n",
        "# from sklearn.model_selection import train_test_split\n",
        "# from tensorflow.keras import callbacks\n",
        "from numpy import asarray\n",
        "from sklearn import metrics\n",
        "from PIL import Image\n",
        "import matplotlib.pyplot as plt\n",
        "import numpy as np\n",
        "import random\n",
        "import cv2\n",
        "import os\n",
        "import glob"
      ],
      "metadata": {
        "id": "jr0LLNaFBCEA"
      },
      "execution_count": 2,
      "outputs": []
    },
    {
      "cell_type": "code",
      "source": [
        "train_file = []\n",
        "for filename in glob.glob(r\"./data/occ240/occupation/train/\" + \"/**/*\", recursive=True): #assuming gif\n",
        "    # im=Image.open(filename)\n",
        "    train_file.append(filename)\n",
        "\n",
        "test_file = []\n",
        "for filename in glob.glob(r\"./data/occ240/occupation/test/\" + \"/**/*\", recursive=True): #assuming gif\n",
        "    # im=Image.open(filename)\n",
        "    test_file.append(filename)"
      ],
      "metadata": {
        "id": "B9J6NGenBHKm"
      },
      "execution_count": 3,
      "outputs": []
    },
    {
      "cell_type": "code",
      "source": [
        "random.shuffle(train_file)\n",
        "# random.shuffle(test_file)\n",
        "print(len(train_file))"
      ],
      "metadata": {
        "colab": {
          "base_uri": "https://localhost:8080/"
        },
        "id": "gwcUqFUvBJKq",
        "outputId": "e1f10732-0a8a-49e5-f152-d1151acef8e7"
      },
      "execution_count": 4,
      "outputs": [
        {
          "output_type": "stream",
          "name": "stdout",
          "text": [
            "1205\n"
          ]
        }
      ]
    },
    {
      "cell_type": "code",
      "source": [
        "label = {\"doctor\":0, \"news\":1, \"player\":2, \"police\":3, \"teachers\": 4}"
      ],
      "metadata": {
        "id": "Mwy8EkpCBKMz"
      },
      "execution_count": 5,
      "outputs": []
    },
    {
      "cell_type": "code",
      "source": [
        "trainx = []\n",
        "testx = []\n",
        "trainy = []\n",
        "testy = []\n",
        "\n",
        "for img in train_file:\n",
        "  try:\n",
        "    image = cv2.imread(img)\n",
        "    image = cv2.resize(image, (64, 64))\n",
        "    image = img_to_array(image)\n",
        "    trainx.append(image)\n",
        "\n",
        "    lbl = img.split(os.path.sep)[-2] # C:\\Files\\gender_dataset_face\\woman\\face_1162.jpg\n",
        "    l = label[lbl]\n",
        "        \n",
        "    trainy.append([l]) # [[1], [0], [0], ...]\n",
        "\n",
        "  except:\n",
        "    print(\"Corrupt\")\n",
        "    \n",
        "\n",
        "for img in test_file:\n",
        "  try:\n",
        "    image = cv2.imread(img)\n",
        "    image = cv2.resize(image, (64, 64))\n",
        "    image = img_to_array(image)\n",
        "    testx.append(image)\n",
        "\n",
        "    lbl = img.split(os.path.sep)[-2] # C:\\Files\\gender_dataset_face\\woman\\face_1162.jpg\n",
        "    l = label[lbl]\n",
        "        \n",
        "    # trainy.append([l])\n",
        "        \n",
        "    testy.append([l]) # [[1], [0], [0], ...]\n",
        "  except:\n",
        "    print(\"Corrupt\")"
      ],
      "metadata": {
        "colab": {
          "base_uri": "https://localhost:8080/"
        },
        "id": "UyuZTnAbBLjS",
        "outputId": "7f2e3fd7-1313-4da3-eb6b-8d80f076e401"
      },
      "execution_count": 6,
      "outputs": [
        {
          "output_type": "stream",
          "name": "stdout",
          "text": [
            "Corrupt\n",
            "Corrupt\n",
            "Corrupt\n",
            "Corrupt\n",
            "Corrupt\n",
            "Corrupt\n",
            "Corrupt\n",
            "Corrupt\n",
            "Corrupt\n",
            "Corrupt\n"
          ]
        }
      ]
    },
    {
      "cell_type": "code",
      "source": [
        "trainx = np.array(trainx, dtype=\"float\")/255.0\n",
        "testx = np.array(testx, dtype=\"float\")/255.0"
      ],
      "metadata": {
        "id": "oKz48MSdBMo5"
      },
      "execution_count": 7,
      "outputs": []
    },
    {
      "cell_type": "code",
      "source": [
        "trainx.shape"
      ],
      "metadata": {
        "colab": {
          "base_uri": "https://localhost:8080/"
        },
        "id": "9dx00jE_BOHe",
        "outputId": "67cc1de1-4f7f-4802-9e20-9506e4111140"
      },
      "execution_count": 8,
      "outputs": [
        {
          "output_type": "execute_result",
          "data": {
            "text/plain": [
              "(1200, 64, 64, 3)"
            ]
          },
          "metadata": {},
          "execution_count": 8
        }
      ]
    },
    {
      "cell_type": "code",
      "source": [
        "# # example of tending the vgg16 model\n",
        "import keras\n",
        "from keras.applications.vgg16 import VGG16\n",
        "from keras.models import Model\n",
        "from keras.layers import Dense\n",
        "from keras.layers import MaxPooling2D\n",
        "from keras.layers import Flatten\n",
        "import math\n",
        "# load model without classifier layers\n",
        "base_model = VGG16(include_top=False, weights='imagenet', input_shape=(64, 64, 3))\n",
        "\n",
        "win1 = math.ceil(16/1)\n",
        "str1 = math.floor(16/1)\n",
        "\n",
        "win2 = math.ceil(16/2)\n",
        "str2 = math.floor(16/2)\n",
        "\n",
        "win3 = math.ceil(16/4)\n",
        "str3 = math.floor(16/4)\n",
        "\n",
        "# win4 = math.ceil(16/8)\n",
        "# str4 = math.floor(16/8)\n",
        "\n",
        "l1 = keras.layers.MaxPooling2D(pool_size=(win1), strides=str1, padding=\"valid\")(base_model.layers[-10].output)\n",
        "l2 = keras.layers.MaxPooling2D(pool_size=(win2), strides=str2, padding=\"valid\")(base_model.layers[-10].output)\n",
        "l3 = keras.layers.MaxPooling2D(pool_size=(win3), strides=str3, padding=\"valid\")(base_model.layers[-10].output)\n",
        "# l4 = keras.layers.MaxPooling2D(pool_size=(win4), strides=str4, padding=\"valid\")(base_model.layers[-10].output)\n",
        "\n",
        "\n",
        "\n",
        "flat1 = Flatten()(l1)\n",
        "flat2 = Flatten()(l2)\n",
        "flat3 = Flatten()(l3)\n",
        "# flat4 = Flatten()(l4)\n",
        "\n",
        "# class1 = Dense(4096, activation='relu')(flat1)\n",
        "# # define new model\n",
        "\n",
        "for layer in base_model.layers:\n",
        "    layer.trainable = False\n",
        "\n",
        "\n",
        "model = Model(inputs=base_model.inputs, outputs=[flat1, flat2, flat3])\n",
        "\n",
        "# combined = np.concatenate([b1.output, b2.output, b3.output])"
      ],
      "metadata": {
        "colab": {
          "base_uri": "https://localhost:8080/"
        },
        "id": "hpxV5KIJBPIx",
        "outputId": "b1076237-0411-4669-b020-f758f74f9627"
      },
      "execution_count": 9,
      "outputs": [
        {
          "output_type": "stream",
          "name": "stdout",
          "text": [
            "Downloading data from https://storage.googleapis.com/tensorflow/keras-applications/vgg16/vgg16_weights_tf_dim_ordering_tf_kernels_notop.h5\n",
            "58892288/58889256 [==============================] - 2s 0us/step\n",
            "58900480/58889256 [==============================] - 2s 0us/step\n"
          ]
        }
      ]
    },
    {
      "cell_type": "code",
      "source": [
        "model.summary()"
      ],
      "metadata": {
        "colab": {
          "base_uri": "https://localhost:8080/"
        },
        "id": "pocu1N2WBViL",
        "outputId": "a583d70d-f568-41ff-c96f-5719931938ee"
      },
      "execution_count": 10,
      "outputs": [
        {
          "output_type": "stream",
          "name": "stdout",
          "text": [
            "Model: \"model\"\n",
            "__________________________________________________________________________________________________\n",
            " Layer (type)                   Output Shape         Param #     Connected to                     \n",
            "==================================================================================================\n",
            " input_1 (InputLayer)           [(None, 64, 64, 3)]  0           []                               \n",
            "                                                                                                  \n",
            " block1_conv1 (Conv2D)          (None, 64, 64, 64)   1792        ['input_1[0][0]']                \n",
            "                                                                                                  \n",
            " block1_conv2 (Conv2D)          (None, 64, 64, 64)   36928       ['block1_conv1[0][0]']           \n",
            "                                                                                                  \n",
            " block1_pool (MaxPooling2D)     (None, 32, 32, 64)   0           ['block1_conv2[0][0]']           \n",
            "                                                                                                  \n",
            " block2_conv1 (Conv2D)          (None, 32, 32, 128)  73856       ['block1_pool[0][0]']            \n",
            "                                                                                                  \n",
            " block2_conv2 (Conv2D)          (None, 32, 32, 128)  147584      ['block2_conv1[0][0]']           \n",
            "                                                                                                  \n",
            " block2_pool (MaxPooling2D)     (None, 16, 16, 128)  0           ['block2_conv2[0][0]']           \n",
            "                                                                                                  \n",
            " block3_conv1 (Conv2D)          (None, 16, 16, 256)  295168      ['block2_pool[0][0]']            \n",
            "                                                                                                  \n",
            " block3_conv2 (Conv2D)          (None, 16, 16, 256)  590080      ['block3_conv1[0][0]']           \n",
            "                                                                                                  \n",
            " block3_conv3 (Conv2D)          (None, 16, 16, 256)  590080      ['block3_conv2[0][0]']           \n",
            "                                                                                                  \n",
            " max_pooling2d (MaxPooling2D)   (None, 1, 1, 256)    0           ['block3_conv3[0][0]']           \n",
            "                                                                                                  \n",
            " max_pooling2d_1 (MaxPooling2D)  (None, 2, 2, 256)   0           ['block3_conv3[0][0]']           \n",
            "                                                                                                  \n",
            " max_pooling2d_2 (MaxPooling2D)  (None, 4, 4, 256)   0           ['block3_conv3[0][0]']           \n",
            "                                                                                                  \n",
            " flatten (Flatten)              (None, 256)          0           ['max_pooling2d[0][0]']          \n",
            "                                                                                                  \n",
            " flatten_1 (Flatten)            (None, 1024)         0           ['max_pooling2d_1[0][0]']        \n",
            "                                                                                                  \n",
            " flatten_2 (Flatten)            (None, 4096)         0           ['max_pooling2d_2[0][0]']        \n",
            "                                                                                                  \n",
            "==================================================================================================\n",
            "Total params: 1,735,488\n",
            "Trainable params: 0\n",
            "Non-trainable params: 1,735,488\n",
            "__________________________________________________________________________________________________\n"
          ]
        }
      ]
    },
    {
      "cell_type": "code",
      "source": [
        "trainy = np.array(trainy)\n",
        "testy = np.array(testy)"
      ],
      "metadata": {
        "id": "9FL0dOi9BXgp"
      },
      "execution_count": 11,
      "outputs": []
    },
    {
      "cell_type": "code",
      "source": [
        "train = model.predict(trainx)\n",
        "test = model.predict(testx)\n",
        "\n",
        "train = np.hstack([train[0], train[1], train[2]])\n",
        "test = np.hstack([test[0], test[1], test[2]])"
      ],
      "metadata": {
        "id": "DwczYUa0BiKn"
      },
      "execution_count": 12,
      "outputs": []
    },
    {
      "cell_type": "code",
      "source": [
        "from sklearn.linear_model import LogisticRegression  \n",
        "\n",
        "clf=LogisticRegression()"
      ],
      "metadata": {
        "id": "fWIzTpE7BY9L"
      },
      "execution_count": 13,
      "outputs": []
    },
    {
      "cell_type": "code",
      "source": [
        "train.shape"
      ],
      "metadata": {
        "colab": {
          "base_uri": "https://localhost:8080/"
        },
        "id": "KifP-k7mBkOe",
        "outputId": "9f1c19f4-37b6-44d4-e1bc-765902f8edf4"
      },
      "execution_count": 14,
      "outputs": [
        {
          "output_type": "execute_result",
          "data": {
            "text/plain": [
              "(1200, 5376)"
            ]
          },
          "metadata": {},
          "execution_count": 14
        }
      ]
    },
    {
      "cell_type": "code",
      "source": [
        "clfmodel = clf.fit(train, trainy)"
      ],
      "metadata": {
        "colab": {
          "base_uri": "https://localhost:8080/"
        },
        "id": "73FjULklBmPl",
        "outputId": "88c89ccb-6082-4168-c96f-0b89b3a37779"
      },
      "execution_count": 15,
      "outputs": [
        {
          "output_type": "stream",
          "name": "stderr",
          "text": [
            "/usr/local/lib/python3.7/dist-packages/sklearn/utils/validation.py:993: DataConversionWarning: A column-vector y was passed when a 1d array was expected. Please change the shape of y to (n_samples, ), for example using ravel().\n",
            "  y = column_or_1d(y, warn=True)\n",
            "/usr/local/lib/python3.7/dist-packages/sklearn/linear_model/_logistic.py:818: ConvergenceWarning: lbfgs failed to converge (status=1):\n",
            "STOP: TOTAL NO. of ITERATIONS REACHED LIMIT.\n",
            "\n",
            "Increase the number of iterations (max_iter) or scale the data as shown in:\n",
            "    https://scikit-learn.org/stable/modules/preprocessing.html\n",
            "Please also refer to the documentation for alternative solver options:\n",
            "    https://scikit-learn.org/stable/modules/linear_model.html#logistic-regression\n",
            "  extra_warning_msg=_LOGISTIC_SOLVER_CONVERGENCE_MSG,\n"
          ]
        }
      ]
    },
    {
      "cell_type": "code",
      "source": [
        "y_pred = clfmodel.predict(test)"
      ],
      "metadata": {
        "id": "L5DL1twcBnv4"
      },
      "execution_count": 16,
      "outputs": []
    },
    {
      "cell_type": "code",
      "source": [
        "!pip install scikit-plot\n",
        "from sklearn.metrics import confusion_matrix\n",
        "import matplotlib.pyplot as plt\n",
        "import scikitplot as skplt\n",
        "#Normalized confusion matrix for the K-NN model\n",
        "skplt.metrics.plot_confusion_matrix(testy, y_pred, normalize=True)\n",
        "plt.show()"
      ],
      "metadata": {
        "colab": {
          "base_uri": "https://localhost:8080/",
          "height": 573
        },
        "id": "Qvwf4gLABpTP",
        "outputId": "4186b82e-296f-4f3a-e40f-58912ff1dd85"
      },
      "execution_count": 17,
      "outputs": [
        {
          "output_type": "stream",
          "name": "stdout",
          "text": [
            "Collecting scikit-plot\n",
            "  Downloading scikit_plot-0.3.7-py3-none-any.whl (33 kB)\n",
            "Requirement already satisfied: joblib>=0.10 in /usr/local/lib/python3.7/dist-packages (from scikit-plot) (1.1.0)\n",
            "Requirement already satisfied: scikit-learn>=0.18 in /usr/local/lib/python3.7/dist-packages (from scikit-plot) (1.0.2)\n",
            "Requirement already satisfied: scipy>=0.9 in /usr/local/lib/python3.7/dist-packages (from scikit-plot) (1.4.1)\n",
            "Requirement already satisfied: matplotlib>=1.4.0 in /usr/local/lib/python3.7/dist-packages (from scikit-plot) (3.2.2)\n",
            "Requirement already satisfied: cycler>=0.10 in /usr/local/lib/python3.7/dist-packages (from matplotlib>=1.4.0->scikit-plot) (0.11.0)\n",
            "Requirement already satisfied: kiwisolver>=1.0.1 in /usr/local/lib/python3.7/dist-packages (from matplotlib>=1.4.0->scikit-plot) (1.4.2)\n",
            "Requirement already satisfied: numpy>=1.11 in /usr/local/lib/python3.7/dist-packages (from matplotlib>=1.4.0->scikit-plot) (1.21.5)\n",
            "Requirement already satisfied: pyparsing!=2.0.4,!=2.1.2,!=2.1.6,>=2.0.1 in /usr/local/lib/python3.7/dist-packages (from matplotlib>=1.4.0->scikit-plot) (3.0.8)\n",
            "Requirement already satisfied: python-dateutil>=2.1 in /usr/local/lib/python3.7/dist-packages (from matplotlib>=1.4.0->scikit-plot) (2.8.2)\n",
            "Requirement already satisfied: typing-extensions in /usr/local/lib/python3.7/dist-packages (from kiwisolver>=1.0.1->matplotlib>=1.4.0->scikit-plot) (4.1.1)\n",
            "Requirement already satisfied: six>=1.5 in /usr/local/lib/python3.7/dist-packages (from python-dateutil>=2.1->matplotlib>=1.4.0->scikit-plot) (1.15.0)\n",
            "Requirement already satisfied: threadpoolctl>=2.0.0 in /usr/local/lib/python3.7/dist-packages (from scikit-learn>=0.18->scikit-plot) (3.1.0)\n",
            "Installing collected packages: scikit-plot\n",
            "Successfully installed scikit-plot-0.3.7\n"
          ]
        },
        {
          "output_type": "display_data",
          "data": {
            "text/plain": [
              "<Figure size 432x288 with 2 Axes>"
            ],
            "image/png": "[encoded data removed]"
          },
          "metadata": {
            "needs_background": "light"
          }
        }
      ]
    },
    {
      "cell_type": "code",
      "source": [
        "# accuracy 73.2"
      ],
      "metadata": {
        "id": "INw2ofToBs_a"
      },
      "execution_count": 18,
      "outputs": []
    }
  ]
}