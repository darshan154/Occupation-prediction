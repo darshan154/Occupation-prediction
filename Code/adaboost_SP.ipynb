{
 "cells": [
  {
   "cell_type": "code",
   "execution_count": 1,
   "metadata": {
    "colab": {
     "base_uri": "https://localhost:8080/"
    },
    "id": "Ocx54hWPIJyg",
    "outputId": "bc1e8f2e-ec9b-4aca-d409-411453861209"
   },
   "outputs": [
    {
     "name": "stdout",
     "output_type": "stream",
     "text": [
      "Cloning into 'data'...\n",
      "remote: Enumerating objects: 1972, done.\u001b[K\n",
      "remote: Counting objects: 100% (1972/1972), done.\u001b[K\n",
      "remote: Compressing objects: 100% (1970/1970), done.\u001b[K\n",
      "remote: Total 1972 (delta 9), reused 1963 (delta 0), pack-reused 0\u001b[K\n",
      "Receiving objects: 100% (1972/1972), 4.66 MiB | 14.72 MiB/s, done.\n",
      "Resolving deltas: 100% (9/9), done.\n"
     ]
    }
   ],
   "source": [
    "!git clone https://github.com/darshan154/data.git"
   ]
  },
  {
   "cell_type": "code",
   "execution_count": 2,
   "metadata": {
    "id": "KAj9nvPOIQMu"
   },
   "outputs": [],
   "source": [
    "from tensorflow.keras.preprocessing.image import ImageDataGenerator\n",
    "from tensorflow.keras.optimizers import Adam\n",
    "from tensorflow.keras.preprocessing.image import img_to_array\n",
    "from tensorflow.keras.utils import to_categorical, plot_model\n",
    "from tensorflow.keras.models import Sequential\n",
    "from tensorflow.keras.layers import BatchNormalization, Conv2D, MaxPooling2D, Activation, Flatten, Dropout, Dense\n",
    "from tensorflow.keras import backend as K\n",
    "from sklearn.model_selection import train_test_split\n",
    "from tensorflow.keras import callbacks\n",
    "from numpy import asarray\n",
    "from sklearn import metrics\n",
    "\n",
    "import matplotlib.pyplot as plt\n",
    "import numpy as np\n",
    "import random\n",
    "import cv2\n",
    "import os\n",
    "import glob"
   ]
  },
  {
   "cell_type": "code",
   "execution_count": 3,
   "metadata": {
    "id": "br0N2MJfIRTB"
   },
   "outputs": [],
   "source": [
    "from PIL import Image\n",
    "import glob\n",
    "train_file = []\n",
    "for filename in glob.glob(r\"./data/occ240/occupation/train/\" + \"/**/*\", recursive=True): #assuming gif\n",
    "    # im=Image.open(filename)\n",
    "    train_file.append(filename)\n",
    "\n",
    "test_file = []\n",
    "for filename in glob.glob(r\"./data/occ240/occupation/test/\" + \"/**/*\", recursive=True): #assuming gif\n",
    "    # im=Image.open(filename)\n",
    "    test_file.append(filename)"
   ]
  },
  {
   "cell_type": "code",
   "execution_count": 4,
   "metadata": {
    "colab": {
     "base_uri": "https://localhost:8080/"
    },
    "id": "gMeFSMozITBG",
    "outputId": "06c97091-f318-4b70-98c9-c991174a5cbb"
   },
   "outputs": [
    {
     "name": "stdout",
     "output_type": "stream",
     "text": [
      "1205\n"
     ]
    }
   ],
   "source": [
    "random.shuffle(train_file)\n",
    "# random.shuffle(test_file)\n",
    "print(len(train_file))"
   ]
  },
  {
   "cell_type": "code",
   "execution_count": 6,
   "metadata": {
    "id": "HV1K5Z9yIpCl"
   },
   "outputs": [],
   "source": [
    "label = {\"doctor\":0, \"news\":1, \"player\":2, \"police\":3, \"teachers\": 4}"
   ]
  },
  {
   "cell_type": "code",
   "execution_count": 8,
   "metadata": {
    "colab": {
     "base_uri": "https://localhost:8080/"
    },
    "id": "8APHBiOFIUUI",
    "outputId": "78b5a198-b3fd-46ed-a292-c4c7956b7bf5"
   },
   "outputs": [
    {
     "name": "stdout",
     "output_type": "stream",
     "text": [
      "Corrupt\n",
      "Corrupt\n",
      "Corrupt\n",
      "Corrupt\n",
      "Corrupt\n",
      "Corrupt\n",
      "Corrupt\n",
      "Corrupt\n",
      "Corrupt\n",
      "Corrupt\n"
     ]
    }
   ],
   "source": [
    "trainx = []\n",
    "testx = []\n",
    "trainy = []\n",
    "testy = []\n",
    "\n",
    "for img in train_file:\n",
    "  try:\n",
    "    image = cv2.imread(img)\n",
    "    image = cv2.resize(image, (64, 64))\n",
    "    image = img_to_array(image)\n",
    "    trainx.append(image)\n",
    "\n",
    "    lbl = img.split(os.path.sep)[-2] # C:\\Files\\gender_dataset_face\\woman\\face_1162.jpg\n",
    "    l = label[lbl]\n",
    "        \n",
    "    trainy.append([l]) # [[1], [0], [0], ...]\n",
    "\n",
    "  except:\n",
    "    print(\"Corrupt\")\n",
    "    \n",
    "\n",
    "for img in test_file:\n",
    "  try:\n",
    "    image = cv2.imread(img)\n",
    "    image = cv2.resize(image, (64, 64))\n",
    "    image = img_to_array(image)\n",
    "    testx.append(image)\n",
    "\n",
    "    lbl = img.split(os.path.sep)[-2] # C:\\Files\\gender_dataset_face\\woman\\face_1162.jpg\n",
    "    l = label[lbl]\n",
    "        \n",
    "    # trainy.append([l])\n",
    "        \n",
    "    testy.append([l]) # [[1], [0], [0], ...]\n",
    "  except:\n",
    "    print(\"Corrupt\")"
   ]
  },
  {
   "cell_type": "code",
   "execution_count": 9,
   "metadata": {
    "id": "uwnSYuVOIVga"
   },
   "outputs": [],
   "source": [
    "trainx = np.array(trainx, dtype=\"float\")/255.0\n",
    "testx = np.array(testx, dtype=\"float\")/255.0"
   ]
  },
  {
   "cell_type": "code",
   "execution_count": 10,
   "metadata": {
    "colab": {
     "base_uri": "https://localhost:8080/"
    },
    "id": "FAvTyTroIxOq",
    "outputId": "8e2ab9f2-512c-4db9-fa07-13bbdcc8aaa1"
   },
   "outputs": [
    {
     "data": {
      "text/plain": [
       "(1200, 64, 64, 3)"
      ]
     },
     "execution_count": 10,
     "metadata": {},
     "output_type": "execute_result"
    }
   ],
   "source": [
    "trainx.shape"
   ]
  },
  {
   "cell_type": "code",
   "execution_count": 11,
   "metadata": {
    "colab": {
     "base_uri": "https://localhost:8080/"
    },
    "id": "Hb8KuhNtIyrW",
    "outputId": "0c1abb48-417c-4eec-d8cf-f19dc4ee8f00"
   },
   "outputs": [
    {
     "name": "stdout",
     "output_type": "stream",
     "text": [
      "Downloading data from https://storage.googleapis.com/tensorflow/keras-applications/vgg16/vgg16_weights_tf_dim_ordering_tf_kernels_notop.h5\n",
      "58892288/58889256 [==============================] - 1s 0us/step\n",
      "58900480/58889256 [==============================] - 1s 0us/step\n"
     ]
    }
   ],
   "source": [
    "# # example of tending the vgg16 model\n",
    "import keras\n",
    "from keras.applications.vgg16 import VGG16\n",
    "from keras.models import Model\n",
    "from keras.layers import Dense\n",
    "from keras.layers import MaxPooling2D\n",
    "from keras.layers import Flatten\n",
    "import math\n",
    "# load model without classifier layers\n",
    "base_model = VGG16(include_top=False, weights='imagenet', input_shape=(64, 64, 3))\n",
    "\n",
    "win1 = math.ceil(16/1)\n",
    "str1 = math.floor(16/1)\n",
    "\n",
    "win2 = math.ceil(16/2)\n",
    "str2 = math.floor(16/2)\n",
    "\n",
    "win3 = math.ceil(16/4)\n",
    "str3 = math.floor(16/4)\n",
    "\n",
    "win4 = math.ceil(16/8)\n",
    "str4 = math.floor(16/8)\n",
    "\n",
    "l1 = keras.layers.MaxPooling2D(pool_size=(win1), strides=str1, padding=\"valid\")(base_model.layers[-10].output)\n",
    "l2 = keras.layers.MaxPooling2D(pool_size=(win2), strides=str2, padding=\"valid\")(base_model.layers[-10].output)\n",
    "l3 = keras.layers.MaxPooling2D(pool_size=(win3), strides=str3, padding=\"valid\")(base_model.layers[-10].output)\n",
    "# l4 = keras.layers.MaxPooling2D(pool_size=(win4), strides=str4, padding=\"valid\")(base_model.layers[-10].output)\n",
    "\n",
    "\n",
    "\n",
    "flat1 = Flatten()(l1)\n",
    "flat2 = Flatten()(l2)\n",
    "flat3 = Flatten()(l3)\n",
    "# flat4 = Flatten()(l4)\n",
    "\n",
    "# class1 = Dense(4096, activation='relu')(flat1)\n",
    "# # define new model\n",
    "\n",
    "for layer in base_model.layers:\n",
    "    layer.trainable = False\n",
    "\n",
    "\n",
    "model = Model(inputs=base_model.inputs, outputs=[flat1, flat2, flat3])\n",
    "\n",
    "# combined = np.concatenate([b1.output, b2.output, b3.output])"
   ]
  },
  {
   "cell_type": "code",
   "execution_count": 12,
   "metadata": {
    "colab": {
     "base_uri": "https://localhost:8080/"
    },
    "id": "7eTeB3JFI7q_",
    "outputId": "ea2ad507-f5a9-4ec3-90df-b51c9a5a2f16"
   },
   "outputs": [
    {
     "name": "stdout",
     "output_type": "stream",
     "text": [
      "Model: \"model\"\n",
      "__________________________________________________________________________________________________\n",
      " Layer (type)                   Output Shape         Param #     Connected to                     \n",
      "==================================================================================================\n",
      " input_1 (InputLayer)           [(None, 64, 64, 3)]  0           []                               \n",
      "                                                                                                  \n",
      " block1_conv1 (Conv2D)          (None, 64, 64, 64)   1792        ['input_1[0][0]']                \n",
      "                                                                                                  \n",
      " block1_conv2 (Conv2D)          (None, 64, 64, 64)   36928       ['block1_conv1[0][0]']           \n",
      "                                                                                                  \n",
      " block1_pool (MaxPooling2D)     (None, 32, 32, 64)   0           ['block1_conv2[0][0]']           \n",
      "                                                                                                  \n",
      " block2_conv1 (Conv2D)          (None, 32, 32, 128)  73856       ['block1_pool[0][0]']            \n",
      "                                                                                                  \n",
      " block2_conv2 (Conv2D)          (None, 32, 32, 128)  147584      ['block2_conv1[0][0]']           \n",
      "                                                                                                  \n",
      " block2_pool (MaxPooling2D)     (None, 16, 16, 128)  0           ['block2_conv2[0][0]']           \n",
      "                                                                                                  \n",
      " block3_conv1 (Conv2D)          (None, 16, 16, 256)  295168      ['block2_pool[0][0]']            \n",
      "                                                                                                  \n",
      " block3_conv2 (Conv2D)          (None, 16, 16, 256)  590080      ['block3_conv1[0][0]']           \n",
      "                                                                                                  \n",
      " block3_conv3 (Conv2D)          (None, 16, 16, 256)  590080      ['block3_conv2[0][0]']           \n",
      "                                                                                                  \n",
      " max_pooling2d (MaxPooling2D)   (None, 1, 1, 256)    0           ['block3_conv3[0][0]']           \n",
      "                                                                                                  \n",
      " max_pooling2d_1 (MaxPooling2D)  (None, 2, 2, 256)   0           ['block3_conv3[0][0]']           \n",
      "                                                                                                  \n",
      " max_pooling2d_2 (MaxPooling2D)  (None, 4, 4, 256)   0           ['block3_conv3[0][0]']           \n",
      "                                                                                                  \n",
      " flatten (Flatten)              (None, 256)          0           ['max_pooling2d[0][0]']          \n",
      "                                                                                                  \n",
      " flatten_1 (Flatten)            (None, 1024)         0           ['max_pooling2d_1[0][0]']        \n",
      "                                                                                                  \n",
      " flatten_2 (Flatten)            (None, 4096)         0           ['max_pooling2d_2[0][0]']        \n",
      "                                                                                                  \n",
      "==================================================================================================\n",
      "Total params: 1,735,488\n",
      "Trainable params: 0\n",
      "Non-trainable params: 1,735,488\n",
      "__________________________________________________________________________________________________\n"
     ]
    }
   ],
   "source": [
    "model.summary()"
   ]
  },
  {
   "cell_type": "code",
   "execution_count": 13,
   "metadata": {
    "id": "4cVfr89BI9wy"
   },
   "outputs": [],
   "source": [
    "trainy = np.array(trainy)\n",
    "testy = np.array(testy)"
   ]
  },
  {
   "cell_type": "code",
   "execution_count": 14,
   "metadata": {
    "id": "76Ce55lQJAfR"
   },
   "outputs": [],
   "source": [
    "from sklearn.ensemble import AdaBoostClassifier\n",
    "from sklearn.svm import SVC"
   ]
  },
  {
   "cell_type": "code",
   "execution_count": 15,
   "metadata": {
    "id": "NRQ75Wz9JFJS"
   },
   "outputs": [],
   "source": [
    "svc=SVC(probability=True, kernel=\"linear\")\n",
    "clf = AdaBoostClassifier(n_estimators=21, base_estimator=svc, learning_rate=0.5, algorithm='SAMME.R')"
   ]
  },
  {
   "cell_type": "code",
   "execution_count": 16,
   "metadata": {
    "id": "dQfNRgZcJL-A"
   },
   "outputs": [],
   "source": [
    "train = model.predict(trainx)\n",
    "test = model.predict(testx)"
   ]
  },
  {
   "cell_type": "code",
   "execution_count": 17,
   "metadata": {
    "id": "H4jVEi7EJUEk"
   },
   "outputs": [],
   "source": [
    "train = np.hstack([train[0], train[1], train[2]])\n",
    "test = np.hstack([test[0], test[1], test[2]])"
   ]
  },
  {
   "cell_type": "code",
   "execution_count": 19,
   "metadata": {
    "colab": {
     "base_uri": "https://localhost:8080/"
    },
    "id": "3_ncIimfJfqZ",
    "outputId": "a4e60443-320a-477c-e377-3d9b4691907e"
   },
   "outputs": [
    {
     "data": {
      "text/plain": [
       "(1200, 5376)"
      ]
     },
     "execution_count": 19,
     "metadata": {},
     "output_type": "execute_result"
    }
   ],
   "source": [
    "train.shape"
   ]
  },
  {
   "cell_type": "code",
   "execution_count": 20,
   "metadata": {
    "colab": {
     "base_uri": "https://localhost:8080/"
    },
    "id": "SAVLtaVNJhhW",
    "outputId": "54a61c58-cdd2-4196-f6cd-ffbffb3c7c8f"
   },
   "outputs": [
    {
     "name": "stderr",
     "output_type": "stream",
     "text": [
      "/usr/local/lib/python3.7/dist-packages/sklearn/utils/validation.py:993: DataConversionWarning: A column-vector y was passed when a 1d array was expected. Please change the shape of y to (n_samples, ), for example using ravel().\n",
      "  y = column_or_1d(y, warn=True)\n"
     ]
    }
   ],
   "source": [
    "clfmodel = clf.fit(train, trainy)"
   ]
  },
  {
   "cell_type": "code",
   "execution_count": 22,
   "metadata": {
    "id": "iJuFxAJzJtUZ"
   },
   "outputs": [],
   "source": [
    "y_pred = clfmodel.predict(test)"
   ]
  },
  {
   "cell_type": "code",
   "execution_count": 23,
   "metadata": {
    "colab": {
     "base_uri": "https://localhost:8080/"
    },
    "id": "1Mxb6l3_KATx",
    "outputId": "c2eb7c09-4c86-469b-8667-599b6346197c"
   },
   "outputs": [
    {
     "name": "stdout",
     "output_type": "stream",
     "text": [
      "Collecting scikit-plot\n",
      "  Downloading scikit_plot-0.3.7-py3-none-any.whl (33 kB)\n",
      "Requirement already satisfied: matplotlib>=1.4.0 in /usr/local/lib/python3.7/dist-packages (from scikit-plot) (3.2.2)\n",
      "Requirement already satisfied: scikit-learn>=0.18 in /usr/local/lib/python3.7/dist-packages (from scikit-plot) (1.0.2)\n",
      "Requirement already satisfied: scipy>=0.9 in /usr/local/lib/python3.7/dist-packages (from scikit-plot) (1.4.1)\n",
      "Requirement already satisfied: joblib>=0.10 in /usr/local/lib/python3.7/dist-packages (from scikit-plot) (1.1.0)\n",
      "Requirement already satisfied: kiwisolver>=1.0.1 in /usr/local/lib/python3.7/dist-packages (from matplotlib>=1.4.0->scikit-plot) (1.4.0)\n",
      "Requirement already satisfied: cycler>=0.10 in /usr/local/lib/python3.7/dist-packages (from matplotlib>=1.4.0->scikit-plot) (0.11.0)\n",
      "Requirement already satisfied: python-dateutil>=2.1 in /usr/local/lib/python3.7/dist-packages (from matplotlib>=1.4.0->scikit-plot) (2.8.2)\n",
      "Requirement already satisfied: numpy>=1.11 in /usr/local/lib/python3.7/dist-packages (from matplotlib>=1.4.0->scikit-plot) (1.21.5)\n",
      "Requirement already satisfied: pyparsing!=2.0.4,!=2.1.2,!=2.1.6,>=2.0.1 in /usr/local/lib/python3.7/dist-packages (from matplotlib>=1.4.0->scikit-plot) (3.0.7)\n",
      "Requirement already satisfied: typing-extensions in /usr/local/lib/python3.7/dist-packages (from kiwisolver>=1.0.1->matplotlib>=1.4.0->scikit-plot) (3.10.0.2)\n",
      "Requirement already satisfied: six>=1.5 in /usr/local/lib/python3.7/dist-packages (from python-dateutil>=2.1->matplotlib>=1.4.0->scikit-plot) (1.15.0)\n",
      "Requirement already satisfied: threadpoolctl>=2.0.0 in /usr/local/lib/python3.7/dist-packages (from scikit-learn>=0.18->scikit-plot) (3.1.0)\n",
      "Installing collected packages: scikit-plot\n",
      "Successfully installed scikit-plot-0.3.7\n"
     ]
    }
   ],
   "source": [
    "!pip install scikit-plot\n",
    "from sklearn.metrics import confusion_matrix"
   ]
  },
  {
   "cell_type": "code",
   "execution_count": 24,
   "metadata": {
    "colab": {
     "base_uri": "https://localhost:8080/",
     "height": 295
    },
    "id": "VIe6gdmFKLnH",
    "outputId": "33115718-6b95-49a1-8a42-aec7eb914e16"
   },
   "outputs": [
    {
     "data": {
      "image/png": "[encoded data removed]",
      "text/plain": [
       "<Figure size 432x288 with 2 Axes>"
      ]
     },
     "metadata": {
      "needs_background": "light"
     },
     "output_type": "display_data"
    }
   ],
   "source": [
    "#60\n",
    "import matplotlib.pyplot as plt\n",
    "import scikitplot as skplt\n",
    "#Normalized confusion matrix for the K-NN model\n",
    "skplt.metrics.plot_confusion_matrix(testy, y_pred, normalize=True)\n",
    "plt.show()\n"
   ]
  },
  {
   "cell_type": "code",
   "execution_count": null,
   "metadata": {
    "id": "dk_hqbZuKN-9"
   },
   "outputs": [],
   "source": [
    "# accuracy : 72.4"
   ]
  }
 ],
 "metadata": {
  "accelerator": "GPU",
  "colab": {
   "name": "adaboost-SP.ipynb",
   "provenance": []
  },
  "kernelspec": {
   "display_name": "Python 3",
   "language": "python",
   "name": "python3"
  },
  "language_info": {
   "codemirror_mode": {
    "name": "ipython",
    "version": 3
   },
   "file_extension": ".py",
   "mimetype": "text/x-python",
   "name": "python",
   "nbconvert_exporter": "python",
   "pygments_lexer": "ipython3",
   "version": "3.9.4"
  }
 },
 "nbformat": 4,
 "nbformat_minor": 1
}
