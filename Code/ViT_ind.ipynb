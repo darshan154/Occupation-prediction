{
  "cells": [
    {
      "cell_type": "code",
      "execution_count": 1,
      "metadata": {
        "colab": {
          "base_uri": "https://localhost:8080/"
        },
        "id": "rEWC1WXNfOJo",
        "outputId": "55c73454-41e6-4938-fa2a-75741a31353e"
      },
      "outputs": [
        {
          "output_type": "stream",
          "name": "stdout",
          "text": [
            "Fri Apr 15 11:42:02 2022       \n",
            "+-----------------------------------------------------------------------------+\n",
            "| NVIDIA-SMI 460.32.03    Driver Version: 460.32.03    CUDA Version: 11.2     |\n",
            "|-------------------------------+----------------------+----------------------+\n",
            "| GPU  Name        Persistence-M| Bus-Id        Disp.A | Volatile Uncorr. ECC |\n",
            "| Fan  Temp  Perf  Pwr:Usage/Cap|         Memory-Usage | GPU-Util  Compute M. |\n",
            "|                               |                      |               MIG M. |\n",
            "|===============================+======================+======================|\n",
            "|   0  Tesla T4            Off  | 00000000:00:04.0 Off |                    0 |\n",
            "| N/A   46C    P8     9W /  70W |      0MiB / 15109MiB |      0%      Default |\n",
            "|                               |                      |                  N/A |\n",
            "+-------------------------------+----------------------+----------------------+\n",
            "                                                                               \n",
            "+-----------------------------------------------------------------------------+\n",
            "| Processes:                                                                  |\n",
            "|  GPU   GI   CI        PID   Type   Process name                  GPU Memory |\n",
            "|        ID   ID                                                   Usage      |\n",
            "|=============================================================================|\n",
            "|  No running processes found                                                 |\n",
            "+-----------------------------------------------------------------------------+\n"
          ]
        }
      ],
      "source": [
        "!nvidia-smi"
      ]
    },
    {
      "cell_type": "code",
      "execution_count": 2,
      "metadata": {
        "colab": {
          "base_uri": "https://localhost:8080/"
        },
        "id": "MWXGqEOjfZvo",
        "outputId": "0a826466-215e-42b8-c87e-9ad88c7516c0"
      },
      "outputs": [
        {
          "output_type": "stream",
          "name": "stdout",
          "text": [
            "\u001b[K     |████████████████████████████████| 4.0 MB 5.1 MB/s \n",
            "\u001b[K     |████████████████████████████████| 582 kB 55.6 MB/s \n",
            "\u001b[K     |████████████████████████████████| 6.6 MB 39.9 MB/s \n",
            "\u001b[K     |████████████████████████████████| 77 kB 6.5 MB/s \n",
            "\u001b[K     |████████████████████████████████| 596 kB 61.2 MB/s \n",
            "\u001b[K     |████████████████████████████████| 895 kB 53.4 MB/s \n",
            "\u001b[K     |████████████████████████████████| 136 kB 62.4 MB/s \n",
            "\u001b[K     |████████████████████████████████| 408 kB 50.3 MB/s \n",
            "\u001b[K     |████████████████████████████████| 1.1 MB 45.2 MB/s \n",
            "\u001b[K     |████████████████████████████████| 144 kB 62.0 MB/s \n",
            "\u001b[K     |████████████████████████████████| 271 kB 66.6 MB/s \n",
            "\u001b[K     |████████████████████████████████| 94 kB 659 kB/s \n",
            "\u001b[?25hThe following NEW packages will be installed:\n",
            "  git-lfs\n",
            "0 upgraded, 1 newly installed, 0 to remove and 39 not upgraded.\n",
            "Need to get 2,129 kB of archives.\n",
            "After this operation, 7,662 kB of additional disk space will be used.\n",
            "debconf: unable to initialize frontend: Dialog\n",
            "debconf: (No usable dialog-like program is installed, so the dialog based frontend cannot be used. at /usr/share/perl5/Debconf/FrontEnd/Dialog.pm line 76, <> line 1.)\n",
            "debconf: falling back to frontend: Readline\n",
            "debconf: unable to initialize frontend: Readline\n",
            "debconf: (This frontend requires a controlling tty.)\n",
            "debconf: falling back to frontend: Teletype\n",
            "dpkg-preconfigure: unable to re-open stdin: \n",
            "Selecting previously unselected package git-lfs.\n",
            "(Reading database ... 155455 files and directories currently installed.)\n",
            "Preparing to unpack .../git-lfs_2.3.4-1_amd64.deb ...\n",
            "Unpacking git-lfs (2.3.4-1) ...\n",
            "Setting up git-lfs (2.3.4-1) ...\n",
            "Processing triggers for man-db (2.8.3-2ubuntu0.1) ...\n",
            "Collecting datasets\n",
            "  Downloading datasets-2.1.0-py3-none-any.whl (325 kB)\n",
            "\u001b[K     |████████████████████████████████| 325 kB 5.1 MB/s \n",
            "\u001b[?25hCollecting responses<0.19\n",
            "  Downloading responses-0.18.0-py3-none-any.whl (38 kB)\n",
            "Requirement already satisfied: aiohttp in /usr/local/lib/python3.7/dist-packages (from datasets) (3.8.1)\n",
            "Requirement already satisfied: numpy>=1.17 in /usr/local/lib/python3.7/dist-packages (from datasets) (1.21.5)\n",
            "Requirement already satisfied: huggingface-hub<1.0.0,>=0.1.0 in /usr/local/lib/python3.7/dist-packages (from datasets) (0.5.1)\n",
            "Requirement already satisfied: multiprocess in /usr/local/lib/python3.7/dist-packages (from datasets) (0.70.12.2)\n",
            "Requirement already satisfied: importlib-metadata in /usr/local/lib/python3.7/dist-packages (from datasets) (4.11.3)\n",
            "Requirement already satisfied: tqdm>=4.62.1 in /usr/local/lib/python3.7/dist-packages (from datasets) (4.64.0)\n",
            "Requirement already satisfied: dill in /usr/local/lib/python3.7/dist-packages (from datasets) (0.3.4)\n",
            "Requirement already satisfied: pandas in /usr/local/lib/python3.7/dist-packages (from datasets) (1.3.5)\n",
            "Requirement already satisfied: packaging in /usr/local/lib/python3.7/dist-packages (from datasets) (21.3)\n",
            "Requirement already satisfied: pyarrow>=5.0.0 in /usr/local/lib/python3.7/dist-packages (from datasets) (6.0.1)\n",
            "Collecting xxhash\n",
            "  Downloading xxhash-3.0.0-cp37-cp37m-manylinux_2_17_x86_64.manylinux2014_x86_64.whl (212 kB)\n",
            "\u001b[K     |████████████████████████████████| 212 kB 55.9 MB/s \n",
            "\u001b[?25hRequirement already satisfied: requests>=2.19.0 in /usr/local/lib/python3.7/dist-packages (from datasets) (2.23.0)\n",
            "Requirement already satisfied: fsspec[http]>=2021.05.0 in /usr/local/lib/python3.7/dist-packages (from datasets) (2022.3.0)\n",
            "Requirement already satisfied: typing-extensions>=3.7.4.3 in /usr/local/lib/python3.7/dist-packages (from huggingface-hub<1.0.0,>=0.1.0->datasets) (4.1.1)\n",
            "Requirement already satisfied: filelock in /usr/local/lib/python3.7/dist-packages (from huggingface-hub<1.0.0,>=0.1.0->datasets) (3.6.0)\n",
            "Requirement already satisfied: pyyaml in /usr/local/lib/python3.7/dist-packages (from huggingface-hub<1.0.0,>=0.1.0->datasets) (6.0)\n",
            "Requirement already satisfied: pyparsing!=3.0.5,>=2.0.2 in /usr/local/lib/python3.7/dist-packages (from packaging->datasets) (3.0.8)\n",
            "Requirement already satisfied: certifi>=2017.4.17 in /usr/local/lib/python3.7/dist-packages (from requests>=2.19.0->datasets) (2021.10.8)\n",
            "Requirement already satisfied: urllib3!=1.25.0,!=1.25.1,<1.26,>=1.21.1 in /usr/local/lib/python3.7/dist-packages (from requests>=2.19.0->datasets) (1.24.3)\n",
            "Requirement already satisfied: chardet<4,>=3.0.2 in /usr/local/lib/python3.7/dist-packages (from requests>=2.19.0->datasets) (3.0.4)\n",
            "Requirement already satisfied: idna<3,>=2.5 in /usr/local/lib/python3.7/dist-packages (from requests>=2.19.0->datasets) (2.10)\n",
            "Collecting urllib3!=1.25.0,!=1.25.1,<1.26,>=1.21.1\n",
            "  Downloading urllib3-1.25.11-py2.py3-none-any.whl (127 kB)\n",
            "\u001b[K     |████████████████████████████████| 127 kB 58.7 MB/s \n",
            "\u001b[?25hRequirement already satisfied: async-timeout<5.0,>=4.0.0a3 in /usr/local/lib/python3.7/dist-packages (from aiohttp->datasets) (4.0.2)\n",
            "Requirement already satisfied: yarl<2.0,>=1.0 in /usr/local/lib/python3.7/dist-packages (from aiohttp->datasets) (1.7.2)\n",
            "Requirement already satisfied: asynctest==0.13.0 in /usr/local/lib/python3.7/dist-packages (from aiohttp->datasets) (0.13.0)\n",
            "Requirement already satisfied: frozenlist>=1.1.1 in /usr/local/lib/python3.7/dist-packages (from aiohttp->datasets) (1.3.0)\n",
            "Requirement already satisfied: multidict<7.0,>=4.5 in /usr/local/lib/python3.7/dist-packages (from aiohttp->datasets) (6.0.2)\n",
            "Requirement already satisfied: aiosignal>=1.1.2 in /usr/local/lib/python3.7/dist-packages (from aiohttp->datasets) (1.2.0)\n",
            "Requirement already satisfied: charset-normalizer<3.0,>=2.0 in /usr/local/lib/python3.7/dist-packages (from aiohttp->datasets) (2.0.12)\n",
            "Requirement already satisfied: attrs>=17.3.0 in /usr/local/lib/python3.7/dist-packages (from aiohttp->datasets) (21.4.0)\n",
            "Requirement already satisfied: zipp>=0.5 in /usr/local/lib/python3.7/dist-packages (from importlib-metadata->datasets) (3.8.0)\n",
            "Requirement already satisfied: python-dateutil>=2.7.3 in /usr/local/lib/python3.7/dist-packages (from pandas->datasets) (2.8.2)\n",
            "Requirement already satisfied: pytz>=2017.3 in /usr/local/lib/python3.7/dist-packages (from pandas->datasets) (2018.9)\n",
            "Requirement already satisfied: six>=1.5 in /usr/local/lib/python3.7/dist-packages (from python-dateutil>=2.7.3->pandas->datasets) (1.15.0)\n",
            "Installing collected packages: urllib3, xxhash, responses, datasets\n",
            "  Attempting uninstall: urllib3\n",
            "    Found existing installation: urllib3 1.24.3\n",
            "    Uninstalling urllib3-1.24.3:\n",
            "      Successfully uninstalled urllib3-1.24.3\n",
            "\u001b[31mERROR: pip's dependency resolver does not currently take into account all the packages that are installed. This behaviour is the source of the following dependency conflicts.\n",
            "datascience 0.10.6 requires folium==0.2.1, but you have folium 0.8.3 which is incompatible.\u001b[0m\n",
            "Successfully installed datasets-2.1.0 responses-0.18.0 urllib3-1.25.11 xxhash-3.0.0\n"
          ]
        }
      ],
      "source": [
        "! pip install transformers pytorch-lightning --quiet\n",
        "! sudo apt -qq install git-lfs\n",
        "!pip install datasets\n",
        "import math\n",
        "import matplotlib.pyplot as plt\n",
        "import numpy as np\n",
        "from PIL import Image, UnidentifiedImageError\n",
        "from pathlib import Path\n",
        "import torch\n",
        "import glob\n",
        "import pytorch_lightning as pl\n",
        "from huggingface_hub import HfApi, Repository\n",
        "from torch.utils.data import DataLoader\n",
        "from torchvision.datasets import ImageFolder\n",
        "from torchmetrics import Accuracy\n",
        "from transformers import ViTFeatureExtractor, ViTForImageClassification\n",
        "from pytorch_lightning.callbacks import ModelCheckpoint"
      ]
    },
    {
      "cell_type": "code",
      "execution_count": 3,
      "metadata": {
        "colab": {
          "base_uri": "https://localhost:8080/"
        },
        "id": "AG1gt4znfbCm",
        "outputId": "9db1a402-a86d-4a26-e074-db780f3224eb"
      },
      "outputs": [
        {
          "output_type": "stream",
          "name": "stdout",
          "text": [
            "Collecting tensorflow-addons\n",
            "  Downloading tensorflow_addons-0.16.1-cp37-cp37m-manylinux_2_12_x86_64.manylinux2010_x86_64.whl (1.1 MB)\n",
            "\u001b[?25l\r\u001b[K     |▎                               | 10 kB 23.1 MB/s eta 0:00:01\r\u001b[K     |▋                               | 20 kB 9.1 MB/s eta 0:00:01\r\u001b[K     |▉                               | 30 kB 8.0 MB/s eta 0:00:01\r\u001b[K     |█▏                              | 40 kB 4.4 MB/s eta 0:00:01\r\u001b[K     |█▌                              | 51 kB 4.2 MB/s eta 0:00:01\r\u001b[K     |█▊                              | 61 kB 5.0 MB/s eta 0:00:01\r\u001b[K     |██                              | 71 kB 5.1 MB/s eta 0:00:01\r\u001b[K     |██▍                             | 81 kB 5.1 MB/s eta 0:00:01\r\u001b[K     |██▋                             | 92 kB 5.7 MB/s eta 0:00:01\r\u001b[K     |███                             | 102 kB 5.2 MB/s eta 0:00:01\r\u001b[K     |███▏                            | 112 kB 5.2 MB/s eta 0:00:01\r\u001b[K     |███▌                            | 122 kB 5.2 MB/s eta 0:00:01\r\u001b[K     |███▉                            | 133 kB 5.2 MB/s eta 0:00:01\r\u001b[K     |████                            | 143 kB 5.2 MB/s eta 0:00:01\r\u001b[K     |████▍                           | 153 kB 5.2 MB/s eta 0:00:01\r\u001b[K     |████▊                           | 163 kB 5.2 MB/s eta 0:00:01\r\u001b[K     |█████                           | 174 kB 5.2 MB/s eta 0:00:01\r\u001b[K     |█████▎                          | 184 kB 5.2 MB/s eta 0:00:01\r\u001b[K     |█████▌                          | 194 kB 5.2 MB/s eta 0:00:01\r\u001b[K     |█████▉                          | 204 kB 5.2 MB/s eta 0:00:01\r\u001b[K     |██████▏                         | 215 kB 5.2 MB/s eta 0:00:01\r\u001b[K     |██████▍                         | 225 kB 5.2 MB/s eta 0:00:01\r\u001b[K     |██████▊                         | 235 kB 5.2 MB/s eta 0:00:01\r\u001b[K     |███████                         | 245 kB 5.2 MB/s eta 0:00:01\r\u001b[K     |███████▎                        | 256 kB 5.2 MB/s eta 0:00:01\r\u001b[K     |███████▋                        | 266 kB 5.2 MB/s eta 0:00:01\r\u001b[K     |███████▉                        | 276 kB 5.2 MB/s eta 0:00:01\r\u001b[K     |████████▏                       | 286 kB 5.2 MB/s eta 0:00:01\r\u001b[K     |████████▌                       | 296 kB 5.2 MB/s eta 0:00:01\r\u001b[K     |████████▊                       | 307 kB 5.2 MB/s eta 0:00:01\r\u001b[K     |█████████                       | 317 kB 5.2 MB/s eta 0:00:01\r\u001b[K     |█████████▍                      | 327 kB 5.2 MB/s eta 0:00:01\r\u001b[K     |█████████▋                      | 337 kB 5.2 MB/s eta 0:00:01\r\u001b[K     |██████████                      | 348 kB 5.2 MB/s eta 0:00:01\r\u001b[K     |██████████▏                     | 358 kB 5.2 MB/s eta 0:00:01\r\u001b[K     |██████████▌                     | 368 kB 5.2 MB/s eta 0:00:01\r\u001b[K     |██████████▉                     | 378 kB 5.2 MB/s eta 0:00:01\r\u001b[K     |███████████                     | 389 kB 5.2 MB/s eta 0:00:01\r\u001b[K     |███████████▍                    | 399 kB 5.2 MB/s eta 0:00:01\r\u001b[K     |███████████▊                    | 409 kB 5.2 MB/s eta 0:00:01\r\u001b[K     |████████████                    | 419 kB 5.2 MB/s eta 0:00:01\r\u001b[K     |████████████▎                   | 430 kB 5.2 MB/s eta 0:00:01\r\u001b[K     |████████████▌                   | 440 kB 5.2 MB/s eta 0:00:01\r\u001b[K     |████████████▉                   | 450 kB 5.2 MB/s eta 0:00:01\r\u001b[K     |█████████████▏                  | 460 kB 5.2 MB/s eta 0:00:01\r\u001b[K     |█████████████▍                  | 471 kB 5.2 MB/s eta 0:00:01\r\u001b[K     |█████████████▊                  | 481 kB 5.2 MB/s eta 0:00:01\r\u001b[K     |██████████████                  | 491 kB 5.2 MB/s eta 0:00:01\r\u001b[K     |██████████████▎                 | 501 kB 5.2 MB/s eta 0:00:01\r\u001b[K     |██████████████▋                 | 512 kB 5.2 MB/s eta 0:00:01\r\u001b[K     |██████████████▉                 | 522 kB 5.2 MB/s eta 0:00:01\r\u001b[K     |███████████████▏                | 532 kB 5.2 MB/s eta 0:00:01\r\u001b[K     |███████████████▌                | 542 kB 5.2 MB/s eta 0:00:01\r\u001b[K     |███████████████▊                | 552 kB 5.2 MB/s eta 0:00:01\r\u001b[K     |████████████████                | 563 kB 5.2 MB/s eta 0:00:01\r\u001b[K     |████████████████▍               | 573 kB 5.2 MB/s eta 0:00:01\r\u001b[K     |████████████████▋               | 583 kB 5.2 MB/s eta 0:00:01\r\u001b[K     |█████████████████               | 593 kB 5.2 MB/s eta 0:00:01\r\u001b[K     |█████████████████▏              | 604 kB 5.2 MB/s eta 0:00:01\r\u001b[K     |█████████████████▌              | 614 kB 5.2 MB/s eta 0:00:01\r\u001b[K     |█████████████████▉              | 624 kB 5.2 MB/s eta 0:00:01\r\u001b[K     |██████████████████              | 634 kB 5.2 MB/s eta 0:00:01\r\u001b[K     |██████████████████▍             | 645 kB 5.2 MB/s eta 0:00:01\r\u001b[K     |██████████████████▊             | 655 kB 5.2 MB/s eta 0:00:01\r\u001b[K     |███████████████████             | 665 kB 5.2 MB/s eta 0:00:01\r\u001b[K     |███████████████████▎            | 675 kB 5.2 MB/s eta 0:00:01\r\u001b[K     |███████████████████▌            | 686 kB 5.2 MB/s eta 0:00:01\r\u001b[K     |███████████████████▉            | 696 kB 5.2 MB/s eta 0:00:01\r\u001b[K     |████████████████████▏           | 706 kB 5.2 MB/s eta 0:00:01\r\u001b[K     |████████████████████▍           | 716 kB 5.2 MB/s eta 0:00:01\r\u001b[K     |████████████████████▊           | 727 kB 5.2 MB/s eta 0:00:01\r\u001b[K     |█████████████████████           | 737 kB 5.2 MB/s eta 0:00:01\r\u001b[K     |█████████████████████▎          | 747 kB 5.2 MB/s eta 0:00:01\r\u001b[K     |█████████████████████▋          | 757 kB 5.2 MB/s eta 0:00:01\r\u001b[K     |█████████████████████▉          | 768 kB 5.2 MB/s eta 0:00:01\r\u001b[K     |██████████████████████▏         | 778 kB 5.2 MB/s eta 0:00:01\r\u001b[K     |██████████████████████▌         | 788 kB 5.2 MB/s eta 0:00:01\r\u001b[K     |██████████████████████▊         | 798 kB 5.2 MB/s eta 0:00:01\r\u001b[K     |███████████████████████         | 808 kB 5.2 MB/s eta 0:00:01\r\u001b[K     |███████████████████████▍        | 819 kB 5.2 MB/s eta 0:00:01\r\u001b[K     |███████████████████████▋        | 829 kB 5.2 MB/s eta 0:00:01\r\u001b[K     |████████████████████████        | 839 kB 5.2 MB/s eta 0:00:01\r\u001b[K     |████████████████████████▏       | 849 kB 5.2 MB/s eta 0:00:01\r\u001b[K     |████████████████████████▌       | 860 kB 5.2 MB/s eta 0:00:01\r\u001b[K     |████████████████████████▉       | 870 kB 5.2 MB/s eta 0:00:01\r\u001b[K     |█████████████████████████       | 880 kB 5.2 MB/s eta 0:00:01\r\u001b[K     |█████████████████████████▍      | 890 kB 5.2 MB/s eta 0:00:01\r\u001b[K     |█████████████████████████▊      | 901 kB 5.2 MB/s eta 0:00:01\r\u001b[K     |██████████████████████████      | 911 kB 5.2 MB/s eta 0:00:01\r\u001b[K     |██████████████████████████▎     | 921 kB 5.2 MB/s eta 0:00:01\r\u001b[K     |██████████████████████████▌     | 931 kB 5.2 MB/s eta 0:00:01\r\u001b[K     |██████████████████████████▉     | 942 kB 5.2 MB/s eta 0:00:01\r\u001b[K     |███████████████████████████▏    | 952 kB 5.2 MB/s eta 0:00:01\r\u001b[K     |███████████████████████████▍    | 962 kB 5.2 MB/s eta 0:00:01\r\u001b[K     |███████████████████████████▊    | 972 kB 5.2 MB/s eta 0:00:01\r\u001b[K     |████████████████████████████    | 983 kB 5.2 MB/s eta 0:00:01\r\u001b[K     |████████████████████████████▎   | 993 kB 5.2 MB/s eta 0:00:01\r\u001b[K     |████████████████████████████▋   | 1.0 MB 5.2 MB/s eta 0:00:01\r\u001b[K     |████████████████████████████▉   | 1.0 MB 5.2 MB/s eta 0:00:01\r\u001b[K     |█████████████████████████████▏  | 1.0 MB 5.2 MB/s eta 0:00:01\r\u001b[K     |█████████████████████████████▌  | 1.0 MB 5.2 MB/s eta 0:00:01\r\u001b[K     |█████████████████████████████▊  | 1.0 MB 5.2 MB/s eta 0:00:01\r\u001b[K     |██████████████████████████████  | 1.1 MB 5.2 MB/s eta 0:00:01\r\u001b[K     |██████████████████████████████▍ | 1.1 MB 5.2 MB/s eta 0:00:01\r\u001b[K     |██████████████████████████████▋ | 1.1 MB 5.2 MB/s eta 0:00:01\r\u001b[K     |███████████████████████████████ | 1.1 MB 5.2 MB/s eta 0:00:01\r\u001b[K     |███████████████████████████████▏| 1.1 MB 5.2 MB/s eta 0:00:01\r\u001b[K     |███████████████████████████████▌| 1.1 MB 5.2 MB/s eta 0:00:01\r\u001b[K     |███████████████████████████████▉| 1.1 MB 5.2 MB/s eta 0:00:01\r\u001b[K     |████████████████████████████████| 1.1 MB 5.2 MB/s \n",
            "\u001b[?25hRequirement already satisfied: typeguard>=2.7 in /usr/local/lib/python3.7/dist-packages (from tensorflow-addons) (2.7.1)\n",
            "Installing collected packages: tensorflow-addons\n",
            "Successfully installed tensorflow-addons-0.16.1\n",
            "TensorFlow Version 2.8.0\n"
          ]
        }
      ],
      "source": [
        "# from tensorflow.keras.preprocessing.image import ImageDataGenerator\n",
        "# from tensorflow.keras.optimizers import Adam\n",
        "# from tensorflow.keras.preprocessing.image import img_to_array\n",
        "# from tensorflow.keras.utils import to_categorical, plot_model\n",
        "# from tensorflow.keras.models import Sequential\n",
        "# from tensorflow.keras.layers import BatchNormalization, Conv2D, MaxPooling2D, Activation, Flatten, Dropout, Dense\n",
        "# from tensorflow.keras import backend as K\n",
        "# from sklearn.model_selection import train_test_split\n",
        "# from tensorflow.keras import callbacks\n",
        "from numpy import asarray\n",
        "from sklearn import metrics\n",
        "\n",
        "import matplotlib.pyplot as plt\n",
        "import numpy as np\n",
        "import random\n",
        "import cv2\n",
        "import os\n",
        "import glob\n",
        "\n",
        "import pandas as pd\n",
        "import numpy as np\n",
        "import tensorflow as tf\n",
        "!pip install tensorflow-addons\n",
        "import tensorflow_addons as tfa\n",
        "import glob, warnings\n",
        "import matplotlib.pyplot as plt\n",
        "from sklearn.metrics import confusion_matrix, classification_report\n",
        "import seaborn as sns\n",
        "\n",
        "warnings.filterwarnings('ignore')\n",
        "print('TensorFlow Version ' + tf.__version__)"
      ]
    },
    {
      "cell_type": "code",
      "execution_count": 4,
      "metadata": {
        "colab": {
          "base_uri": "https://localhost:8080/"
        },
        "id": "0qzj0MchfcME",
        "outputId": "dbb09ddb-c5fa-4f81-9975-69391ca9a609"
      },
      "outputs": [
        {
          "output_type": "stream",
          "name": "stdout",
          "text": [
            "Cloning into 'db2'...\n",
            "remote: Enumerating objects: 6624, done.\u001b[K\n",
            "remote: Counting objects: 100% (6624/6624), done.\u001b[K\n",
            "remote: Compressing objects: 100% (6525/6525), done.\u001b[K\n",
            "remote: Total 6624 (delta 136), reused 6586 (delta 98), pack-reused 0\u001b[K\n",
            "Receiving objects: 100% (6624/6624), 9.88 MiB | 26.42 MiB/s, done.\n",
            "Resolving deltas: 100% (136/136), done.\n"
          ]
        }
      ],
      "source": [
        "!git clone https://github.com/darshan154/db2.git"
      ]
    },
    {
      "cell_type": "code",
      "execution_count": 5,
      "metadata": {
        "id": "NfTydr9IffBw"
      },
      "outputs": [],
      "source": [
        "import os\n",
        "import datasets\n",
        "\n",
        "def create_image_folder_dataset(root_path):\n",
        "  \"\"\"creates `Dataset` from image folder structure\"\"\"\n",
        "  \n",
        "  # get class names by folders names\n",
        "  _CLASS_NAMES= os.listdir(root_path)\n",
        "  # defines `datasets` features`\n",
        "  features=datasets.Features({\n",
        "                      \"img\": datasets.Image(),\n",
        "                      \"label\": datasets.features.ClassLabel(names=_CLASS_NAMES),\n",
        "                  })\n",
        "  # temp list holding datapoints for creation\n",
        "  img_data_files=[]\n",
        "  label_data_files=[]\n",
        "  # load images into list for creation\n",
        "  for img_class in os.listdir(root_path):\n",
        "    for img in os.listdir(os.path.join(root_path,img_class)):\n",
        "      path_=os.path.join(root_path,img_class,img)\n",
        "      img_data_files.append(path_)\n",
        "      label_data_files.append(img_class)\n",
        "  # create dataset\n",
        "  ds = datasets.Dataset.from_dict({\"img\":img_data_files,\"label\":label_data_files},features=features)\n",
        "  return ds"
      ]
    },
    {
      "cell_type": "code",
      "execution_count": 6,
      "metadata": {
        "colab": {
          "base_uri": "https://localhost:8080/"
        },
        "id": "kZ7CKl0qfgN7",
        "outputId": "2643cae5-6955-4658-b35f-7d092e657314"
      },
      "outputs": [
        {
          "output_type": "execute_result",
          "data": {
            "text/plain": [
              "Dataset({\n",
              "    features: ['img', 'label'],\n",
              "    num_rows: 1000\n",
              "})"
            ]
          },
          "metadata": {},
          "execution_count": 6
        }
      ],
      "source": [
        "occupation_ds = create_image_folder_dataset(\"./db2/data\")\n",
        "occupation_ds"
      ]
    },
    {
      "cell_type": "code",
      "execution_count": 7,
      "metadata": {
        "id": "jeRfBEm9fjWV"
      },
      "outputs": [],
      "source": [
        "img_class_labels = occupation_ds.features[\"label\"].names"
      ]
    },
    {
      "cell_type": "code",
      "execution_count": 8,
      "metadata": {
        "id": "CT2McpXZfkbA"
      },
      "outputs": [],
      "source": [
        "model_id = \"google/vit-base-patch16-224\""
      ]
    },
    {
      "cell_type": "code",
      "execution_count": 9,
      "metadata": {
        "colab": {
          "base_uri": "https://localhost:8080/",
          "height": 49,
          "referenced_widgets": [
            "40b3562727414c819abe8f450147ce08",
            "f8b29461f066485ba66178da1fea271f",
            "b53fc229adfa4b6aa749a72cfa28a273",
            "0397a0d8bdff4a828416ca4acf9adb48",
            "07f10238b74446e8b5b5fd76b8aba3a6",
            "3f7b20c678d54f208be26a3619f07b10",
            "991e403b40c0416987e382617840e906",
            "6609457e7b0e480b84472983b63f0f6d",
            "f86ce829fd5e41dba0f104de685d8675",
            "ef0e6f7e4896444a82d03c2f6e4ab74d",
            "96ec538b8a2e49a79c1a37953c051a3f"
          ]
        },
        "id": "lBy1BzJTfld3",
        "outputId": "4f2a5385-a6b6-457c-d04d-54ba6ea675c2"
      },
      "outputs": [
        {
          "output_type": "display_data",
          "data": {
            "text/plain": [
              "Downloading:   0%|          | 0.00/160 [00:00<?, ?B/s]"
            ],
            "application/vnd.jupyter.widget-view+json": {
              "version_major": 2,
              "version_minor": 0,
              "model_id": "40b3562727414c819abe8f450147ce08"
            }
          },
          "metadata": {}
        }
      ],
      "source": [
        "from transformers import ViTFeatureExtractor, BeitFeatureExtractor, BeitForImageClassification\n",
        "from tensorflow import keras \n",
        "from tensorflow.keras import layers\n",
        "\n",
        "\n",
        "feature_extractor = ViTFeatureExtractor.from_pretrained(model_id)\n",
        "\n",
        "# learn more about data augmentation here: https://www.tensorflow.org/tutorials/images/data_augmentation\n",
        "data_augmentation = keras.Sequential(\n",
        "    [\n",
        "        layers.Resizing(feature_extractor.size, feature_extractor.size),\n",
        "        layers.Rescaling(1./255),\n",
        "        layers.RandomFlip(\"horizontal\"),\n",
        "        layers.RandomRotation(factor=0.02),\n",
        "        layers.RandomZoom(\n",
        "            height_factor=0.2, width_factor=0.2\n",
        "        ),\n",
        "    ],\n",
        "    name=\"data_augmentation\",\n",
        ")\n",
        "# use keras image data augementation processing\n",
        "def augmentation(examples):\n",
        "    # print(examples[\"img\"])\n",
        "    examples[\"pixel_values\"] = [data_augmentation(image) for image in examples[\"img\"]]\n",
        "    return examples\n",
        "\n",
        "\n",
        "# basic processing (only resizing)\n",
        "def process(examples):\n",
        "    examples.update(feature_extractor(examples['img'], ))\n",
        "    return examples\n",
        "\n",
        "# we are also renaming our label col to labels to use `.to_tf_dataset` later\n",
        "occupation_ds = occupation_ds.rename_column(\"label\", \"labels\")"
      ]
    },
    {
      "cell_type": "code",
      "execution_count": 10,
      "metadata": {
        "colab": {
          "base_uri": "https://localhost:8080/",
          "height": 118,
          "referenced_widgets": [
            "39d536d866ca4322917d391c06091963",
            "b7727751dd8a422fbd817e8c02ae6581",
            "d47ec028c06e48f391fceacd853b28a3",
            "1ca00e3faa954108b8205cf8f6a76f42",
            "d3b735534773463caae686662a193d57",
            "b8cc4322f9f5495eadccaa9a98086d39",
            "2aee6cef14cc4bd895861d75dd480525",
            "de150fe72d1a48d9a01c3cceca91c46d",
            "1752ad9ae8a342fea975ffe9f9a42b2b",
            "cc43071a76164571b83642e4e85c1e33",
            "5f56e51e2c7745b09d7854c9104a8a09"
          ]
        },
        "id": "i3rLJIl0fmaC",
        "outputId": "0fd9bad9-0a7c-43a3-aaf3-d0bb53116e2a"
      },
      "outputs": [
        {
          "output_type": "display_data",
          "data": {
            "text/plain": [
              "  0%|          | 0/1 [00:00<?, ?ba/s]"
            ],
            "application/vnd.jupyter.widget-view+json": {
              "version_major": 2,
              "version_minor": 0,
              "model_id": "39d536d866ca4322917d391c06091963"
            }
          },
          "metadata": {}
        },
        {
          "output_type": "execute_result",
          "data": {
            "text/plain": [
              "Dataset({\n",
              "    features: ['img', 'labels', 'pixel_values'],\n",
              "    num_rows: 1000\n",
              "})"
            ]
          },
          "metadata": {},
          "execution_count": 10
        }
      ],
      "source": [
        "processed_dataset = occupation_ds.map(process, batched=True)\n",
        "processed_dataset\n",
        "\n",
        "# # augmenting dataset takes a lot of time\n",
        "# processed_dataset = occupation_ds.map(augmentation, batched=True)"
      ]
    },
    {
      "cell_type": "code",
      "execution_count": 11,
      "metadata": {
        "id": "CYvtYfbVfnfG"
      },
      "outputs": [],
      "source": [
        "# test size will be 15% of train dataset\n",
        "test_size=.25\n",
        "\n",
        "processed_dataset = processed_dataset.shuffle().train_test_split(test_size=test_size)"
      ]
    },
    {
      "cell_type": "code",
      "execution_count": 12,
      "metadata": {
        "colab": {
          "base_uri": "https://localhost:8080/"
        },
        "id": "RfXEMzxbfogV",
        "outputId": "79304561-d51f-4475-d94c-55a3ccb4c582"
      },
      "outputs": [
        {
          "output_type": "stream",
          "name": "stdout",
          "text": [
            "INFO:tensorflow:Mixed precision compatibility check (mixed_float16): OK\n",
            "Your GPU will likely run quickly with dtype policy mixed_float16 as it has compute capability of at least 7.0. Your GPU: Tesla T4, compute capability 7.5\n"
          ]
        }
      ],
      "source": [
        "from huggingface_hub import HfFolder\n",
        "import tensorflow as tf\n",
        "\n",
        "id2label = {str(i): label for i, label in enumerate(img_class_labels)}\n",
        "label2id = {v: k for k, v in id2label.items()}\n",
        "\n",
        "num_train_epochs = 7\n",
        "train_batch_size = 64\n",
        "eval_batch_size = 64\n",
        "learning_rate = 1e-4\n",
        "weight_decay_rate=0\n",
        "num_warmup_steps=0\n",
        "output_dir=model_id.split(\"/\")[1]\n",
        "hub_token = HfFolder.get_token() # or your token directly \"hf_xxx\"\n",
        "hub_model_id = f'{model_id.split(\"/\")[1]}-occupationDs'\n",
        "fp16=True\n",
        "\n",
        "# Train in mixed-precision float16\n",
        "# Comment this line out if you're using a GPU that will not benefit from this\n",
        "if fp16:\n",
        "  tf.keras.mixed_precision.set_global_policy(\"mixed_float16\")"
      ]
    },
    {
      "cell_type": "code",
      "execution_count": 13,
      "metadata": {
        "id": "6rQObyOKfpce"
      },
      "outputs": [],
      "source": [
        "from transformers import DefaultDataCollator\n",
        "\n",
        "# Data collator that will dynamically pad the inputs received, as well as the labels.\n",
        "data_collator = DefaultDataCollator(return_tensors=\"tf\")\n",
        "\n",
        "# converting our train dataset to tf.data.Dataset\n",
        "tf_train_dataset = processed_dataset[\"train\"].to_tf_dataset(\n",
        "   columns=['pixel_values'],\n",
        "   label_cols=[\"labels\"],\n",
        "   shuffle=True,\n",
        "   batch_size=train_batch_size,\n",
        "   collate_fn=data_collator)\n",
        "\n",
        "# converting our test dataset to tf.data.Dataset\n",
        "tf_eval_dataset = processed_dataset[\"test\"].to_tf_dataset(\n",
        "   columns=['pixel_values'],\n",
        "   label_cols=[\"labels\"],\n",
        "   shuffle=False,\n",
        "   batch_size=eval_batch_size,\n",
        "   collate_fn=data_collator)"
      ]
    },
    {
      "cell_type": "code",
      "execution_count": 14,
      "metadata": {
        "colab": {
          "base_uri": "https://localhost:8080/",
          "height": 185,
          "referenced_widgets": [
            "f57b6a0fc20948168feabd949c68c203",
            "4c2567ab01de4fedb471356f9f4d103c",
            "4d9b33c94c454447b8981b6d06b6c0be",
            "1bda9013d7cf403896cfee9eb3700105",
            "d8ba08b7ac064d4e84776bdc91acb852",
            "918e65bd63f54ef09964ca04f2e16f65",
            "9b6235300daf4b638c26659b20a0a3b9",
            "32ce1eef11a44bf5bada402d1aca085d",
            "fc024eeb8d4c4db8ba76299c510b0dad",
            "e75e510098ac49b8ae520f815e004f12",
            "77312dbb8e1e48a18b23d5df8472bddd",
            "89ef7aea72724678b3601a6f257586b6",
            "7644dd2fc36741e1aa9c6efa724b021f",
            "d33c150b684943f1af29fbc47e34b6f4",
            "478a30c91f3044a5bfca2fa0bd82407a",
            "73edfed7b0314915917338215644f587",
            "ea5e1d7a1e3c487e86c94a39d7c6490a",
            "88213822a442476ba8b16b2d150a3f5c",
            "68f970afa77c468abf9fa8782bd84cf5",
            "6f1283e3c7a94aed8eda67653cdb5cfe",
            "a983c13266c04402bdde6a132411a230",
            "5e8b35abb416480a8419e4e32a152dcc"
          ]
        },
        "id": "nqDoayB0fq6r",
        "outputId": "c53c5ed5-52c5-4f0a-f2b1-d7da50410590"
      },
      "outputs": [
        {
          "output_type": "display_data",
          "data": {
            "text/plain": [
              "Downloading:   0%|          | 0.00/68.0k [00:00<?, ?B/s]"
            ],
            "application/vnd.jupyter.widget-view+json": {
              "version_major": 2,
              "version_minor": 0,
              "model_id": "f57b6a0fc20948168feabd949c68c203"
            }
          },
          "metadata": {}
        },
        {
          "output_type": "display_data",
          "data": {
            "text/plain": [
              "Downloading:   0%|          | 0.00/330M [00:00<?, ?B/s]"
            ],
            "application/vnd.jupyter.widget-view+json": {
              "version_major": 2,
              "version_minor": 0,
              "model_id": "89ef7aea72724678b3601a6f257586b6"
            }
          },
          "metadata": {}
        },
        {
          "output_type": "stream",
          "name": "stderr",
          "text": [
            "All model checkpoint layers were used when initializing TFViTForImageClassification.\n",
            "\n",
            "Some weights of TFViTForImageClassification were not initialized from the model checkpoint at google/vit-base-patch16-224 and are newly initialized because the shapes did not match:\n",
            "- classifier/kernel:0: found shape (768, 1000) in the checkpoint and (768, 5) in the model instantiated\n",
            "- classifier/bias:0: found shape (1000,) in the checkpoint and (5,) in the model instantiated\n",
            "You should probably TRAIN this model on a down-stream task to be able to use it for predictions and inference.\n"
          ]
        }
      ],
      "source": [
        "from transformers import TFViTForImageClassification, create_optimizer\n",
        "import tensorflow as tf\n",
        "\n",
        "# create optimizer wight weigh decay\n",
        "num_train_steps = len(tf_train_dataset) * num_train_epochs\n",
        "optimizer, lr_schedule = create_optimizer(\n",
        "    init_lr=learning_rate,\n",
        "    num_train_steps=num_train_steps,\n",
        "    weight_decay_rate=weight_decay_rate,\n",
        "    num_warmup_steps=num_warmup_steps,\n",
        ")\n",
        "\n",
        "# load pre-trained ViT model\n",
        "model = TFViTForImageClassification.from_pretrained(\n",
        "    model_id,\n",
        "    num_labels=len(img_class_labels),\n",
        "    ignore_mismatched_sizes=True,\n",
        "    id2label=id2label,\n",
        "    label2id=label2id,\n",
        ")\n",
        "\n",
        "# define loss\n",
        "loss=tf.keras.losses.SparseCategoricalCrossentropy(from_logits=True)\n",
        "\n",
        "# define metrics \n",
        "metrics=[\n",
        "    tf.keras.metrics.SparseCategoricalAccuracy(name=\"accuracy\"),\n",
        "    tf.keras.metrics.SparseTopKCategoricalAccuracy(3, name=\"top-3-accuracy\"),\n",
        "]\n",
        "\n",
        "# # compile model\n",
        "model.compile(optimizer=optimizer,\n",
        "              loss=loss,\n",
        "              metrics=metrics\n",
        "              )"
      ]
    },
    {
      "cell_type": "code",
      "execution_count": 15,
      "metadata": {
        "id": "-pZEm4thftjM"
      },
      "outputs": [],
      "source": [
        "# # alternatively create Image Classification model using Keras Layer and ViTModel \n",
        "# # here you can also add the processing layers of keras\n",
        "\n",
        "# import tensorflow as tf\n",
        "# from transformers import TFViTModel\n",
        "\n",
        "# base_model = TFViTModel.from_pretrained('google/vit-base-patch16-224-in21k')\n",
        "\n",
        "\n",
        "# # inputs\n",
        "# pixel_values = tf.keras.layers.Input(shape=(3,224,224), name='pixel_values', dtype='float32')\n",
        "\n",
        "# # model layer\n",
        "# vit = base_model.vit(pixel_values)[0]\n",
        "# classifier = tf.keras.layers.Dense(5, activation='softmax', name='outputs')(vit[:, 0, :])\n",
        "\n",
        "# # model\n",
        "# keras_model = tf.keras.Model(inputs=pixel_values, outputs=classifier)"
      ]
    },
    {
      "cell_type": "code",
      "execution_count": 16,
      "metadata": {
        "id": "HZh9PhkDftgt"
      },
      "outputs": [],
      "source": [
        "import os\n",
        "from transformers.keras_callbacks import PushToHubCallback\n",
        "from tensorflow.keras.callbacks import TensorBoard as TensorboardCallback, EarlyStopping\n",
        "\n",
        "callbacks=[]\n",
        "\n",
        "callbacks.append(TensorboardCallback(log_dir=os.path.join(output_dir,\"logs\")))\n",
        "callbacks.append(EarlyStopping(monitor=\"val_accuracy\",patience=12))\n",
        "if hub_token:\n",
        "  callbacks.append(PushToHubCallback(output_dir=output_dir,\n",
        "                                     hub_model_id=hub_model_id,\n",
        "                                     hub_token=hub_token))"
      ]
    },
    {
      "cell_type": "code",
      "execution_count": 17,
      "metadata": {
        "colab": {
          "base_uri": "https://localhost:8080/"
        },
        "id": "8uq3IiK0ftdp",
        "outputId": "40784e89-661e-4190-b9b2-e8b2a4af9217"
      },
      "outputs": [
        {
          "output_type": "stream",
          "name": "stdout",
          "text": [
            "Epoch 1/7\n",
            "11/11 [==============================] - 235s 19s/step - loss: 1.1322 - accuracy: 0.5398 - top-3-accuracy: 0.8793 - val_loss: 0.7208 - val_accuracy: 0.7360 - val_top-3-accuracy: 0.9640\n",
            "Epoch 2/7\n",
            "11/11 [==============================] - 235s 22s/step - loss: 0.4780 - accuracy: 0.8480 - top-3-accuracy: 0.9858 - val_loss: 0.5822 - val_accuracy: 0.7840 - val_top-3-accuracy: 0.9680\n",
            "Epoch 3/7\n",
            "11/11 [==============================] - 205s 19s/step - loss: 0.2339 - accuracy: 0.9403 - top-3-accuracy: 0.9957 - val_loss: 0.5659 - val_accuracy: 0.7880 - val_top-3-accuracy: 0.9800\n",
            "Epoch 4/7\n",
            "11/11 [==============================] - 235s 22s/step - loss: 0.1271 - accuracy: 0.9730 - top-3-accuracy: 0.9972 - val_loss: 0.5675 - val_accuracy: 0.8160 - val_top-3-accuracy: 0.9560\n",
            "Epoch 5/7\n",
            "11/11 [==============================] - 205s 19s/step - loss: 0.0558 - accuracy: 0.9972 - top-3-accuracy: 0.9986 - val_loss: 0.5660 - val_accuracy: 0.8160 - val_top-3-accuracy: 0.9600\n",
            "Epoch 6/7\n",
            "11/11 [==============================] - 206s 19s/step - loss: 0.0368 - accuracy: 0.9972 - top-3-accuracy: 1.0000 - val_loss: 0.5587 - val_accuracy: 0.8200 - val_top-3-accuracy: 0.9640\n",
            "Epoch 7/7\n",
            "11/11 [==============================] - 234s 22s/step - loss: 0.0303 - accuracy: 0.9986 - top-3-accuracy: 1.0000 - val_loss: 0.5615 - val_accuracy: 0.8320 - val_top-3-accuracy: 0.9600\n"
          ]
        }
      ],
      "source": [
        "train_results = model.fit(\n",
        "    tf_train_dataset,\n",
        "    validation_data=tf_eval_dataset,\n",
        "    callbacks=callbacks,\n",
        "    epochs=num_train_epochs,\n",
        ")"
      ]
    },
    {
      "cell_type": "code",
      "execution_count": 18,
      "metadata": {
        "colab": {
          "base_uri": "https://localhost:8080/"
        },
        "id": "Y0XjaT6tYoku",
        "outputId": "3246f6a4-3b26-412e-a9de-02eaeb996b86"
      },
      "outputs": [
        {
          "output_type": "execute_result",
          "data": {
            "text/plain": [
              "{'0': 'professor', '1': 'doctor', '2': 'anchor', '3': 'farmer', '4': 'athlete'}"
            ]
          },
          "metadata": {},
          "execution_count": 18
        }
      ],
      "source": [
        "id2label"
      ]
    },
    {
      "cell_type": "code",
      "execution_count": 19,
      "metadata": {
        "colab": {
          "base_uri": "https://localhost:8080/"
        },
        "id": "WzkwwXCVMvvl",
        "outputId": "46eba459-4074-4c81-eb3c-a4a1e2558e23"
      },
      "outputs": [
        {
          "output_type": "execute_result",
          "data": {
            "text/plain": [
              "['professor', 'doctor', 'anchor', 'farmer', 'athlete']"
            ]
          },
          "metadata": {},
          "execution_count": 19
        }
      ],
      "source": [
        "lbls = []\n",
        "for i in range(len(id2label)):\n",
        "    lbls.append(id2label[str(i)])\n",
        "lbls"
      ]
    },
    {
      "cell_type": "code",
      "execution_count": 20,
      "metadata": {
        "id": "2Fg3prZcftbE"
      },
      "outputs": [],
      "source": [
        "ypred = model.predict(tf_eval_dataset)\n",
        "ypred = ypred.logits.argmax(-1) "
      ]
    },
    {
      "cell_type": "code",
      "execution_count": 21,
      "metadata": {
        "id": "AGlM699_ftYx"
      },
      "outputs": [],
      "source": [
        "true_categories = tf.concat([y for x, y in tf_eval_dataset], axis=0)\n",
        "true_categories = np.array(true_categories)"
      ]
    },
    {
      "cell_type": "code",
      "execution_count": 22,
      "metadata": {
        "id": "tpOW0XweftWF",
        "colab": {
          "base_uri": "https://localhost:8080/",
          "height": 691
        },
        "outputId": "d6ff902b-44c7-4d0e-aeca-51f51b73937d"
      },
      "outputs": [
        {
          "output_type": "stream",
          "name": "stdout",
          "text": [
            "              precision    recall  f1-score   support\n",
            "\n",
            "   professor       0.85      0.74      0.79        46\n",
            "      doctor       0.84      0.79      0.81        52\n",
            "      anchor       0.77      0.84      0.80        49\n",
            "      farmer       0.91      0.95      0.93        56\n",
            "     athlete       0.78      0.83      0.80        47\n",
            "\n",
            "    accuracy                           0.83       250\n",
            "   macro avg       0.83      0.83      0.83       250\n",
            "weighted avg       0.83      0.83      0.83       250\n",
            "\n"
          ]
        },
        {
          "output_type": "display_data",
          "data": {
            "text/plain": [
              "<Figure size 576x576 with 2 Axes>"
            ],
            "image/png": "[encoded data removed]"
          },
          "metadata": {
            "needs_background": "light"
          }
        }
      ],
      "source": [
        "confusionmatrix = confusion_matrix(true_categories, ypred, normalize='true')\n",
        "plt.figure(figsize = (8, 8))\n",
        "sns.heatmap(confusionmatrix, cmap = 'Blues', annot = True, cbar = True)\n",
        "\n",
        "print(classification_report(true_categories, ypred, target_names=lbls))"
      ]
    },
    {
      "cell_type": "code",
      "execution_count": 23,
      "metadata": {
        "id": "nqtKpQ97ftTo",
        "colab": {
          "base_uri": "https://localhost:8080/"
        },
        "outputId": "0c2256c6-7af1-47aa-e135-59c0e8df1da9"
      },
      "outputs": [
        {
          "output_type": "stream",
          "name": "stdout",
          "text": [
            "Accuracy: 0.832\n"
          ]
        }
      ],
      "source": [
        "ypred = ypred.reshape((ypred.shape[0], 1))\n",
        "true_categories = true_categories.reshape((true_categories.shape[0], 1))\n",
        "\n",
        "from sklearn import metrics\n",
        "print(\"Accuracy:\",metrics.accuracy_score(true_categories, ypred))"
      ]
    },
    {
      "cell_type": "code",
      "execution_count": 23,
      "metadata": {
        "id": "q0h76ilVftQ9"
      },
      "outputs": [],
      "source": [
        ""
      ]
    },
    {
      "cell_type": "code",
      "execution_count": 23,
      "metadata": {
        "id": "uzvkKs7rftH1"
      },
      "outputs": [],
      "source": [
        ""
      ]
    }
  ],
  "metadata": {
    "accelerator": "GPU",
    "colab": {
      "collapsed_sections": [],
      "name": "google_vit_(4) (2).ipynb",
      "provenance": []
    },
    "kernelspec": {
      "display_name": "Python 3",
      "name": "python3"
    },
    "language_info": {
      "name": "python"
    },
    "widgets": {
      "application/vnd.jupyter.widget-state+json": {
        "40b3562727414c819abe8f450147ce08": {
          "model_module": "@jupyter-widgets/controls",
          "model_name": "HBoxModel",
          "model_module_version": "1.5.0",
          "state": {
            "_dom_classes": [],
            "_model_module": "@jupyter-widgets/controls",
            "_model_module_version": "1.5.0",
            "_model_name": "HBoxModel",
            "_view_count": null,
            "_view_module": "@jupyter-widgets/controls",
            "_view_module_version": "1.5.0",
            "_view_name": "HBoxView",
            "box_style": "",
            "children": [
              "IPY_MODEL_f8b29461f066485ba66178da1fea271f",
              "IPY_MODEL_b53fc229adfa4b6aa749a72cfa28a273",
              "IPY_MODEL_0397a0d8bdff4a828416ca4acf9adb48"
            ],
            "layout": "IPY_MODEL_07f10238b74446e8b5b5fd76b8aba3a6"
          }
        },
        "f8b29461f066485ba66178da1fea271f": {
          "model_module": "@jupyter-widgets/controls",
          "model_name": "HTMLModel",
          "model_module_version": "1.5.0",
          "state": {
            "_dom_classes": [],
            "_model_module": "@jupyter-widgets/controls",
            "_model_module_version": "1.5.0",
            "_model_name": "HTMLModel",
            "_view_count": null,
            "_view_module": "@jupyter-widgets/controls",
            "_view_module_version": "1.5.0",
            "_view_name": "HTMLView",
            "description": "",
            "description_tooltip": null,
            "layout": "IPY_MODEL_3f7b20c678d54f208be26a3619f07b10",
            "placeholder": "​",
            "style": "IPY_MODEL_991e403b40c0416987e382617840e906",
            "value": "Downloading: 100%"
          }
        },
        "b53fc229adfa4b6aa749a72cfa28a273": {
          "model_module": "@jupyter-widgets/controls",
          "model_name": "FloatProgressModel",
          "model_module_version": "1.5.0",
          "state": {
            "_dom_classes": [],
            "_model_module": "@jupyter-widgets/controls",
            "_model_module_version": "1.5.0",
            "_model_name": "FloatProgressModel",
            "_view_count": null,
            "_view_module": "@jupyter-widgets/controls",
            "_view_module_version": "1.5.0",
            "_view_name": "ProgressView",
            "bar_style": "success",
            "description": "",
            "description_tooltip": null,
            "layout": "IPY_MODEL_6609457e7b0e480b84472983b63f0f6d",
            "max": 160,
            "min": 0,
            "orientation": "horizontal",
            "style": "IPY_MODEL_f86ce829fd5e41dba0f104de685d8675",
            "value": 160
          }
        },
        "0397a0d8bdff4a828416ca4acf9adb48": {
          "model_module": "@jupyter-widgets/controls",
          "model_name": "HTMLModel",
          "model_module_version": "1.5.0",
          "state": {
            "_dom_classes": [],
            "_model_module": "@jupyter-widgets/controls",
            "_model_module_version": "1.5.0",
            "_model_name": "HTMLModel",
            "_view_count": null,
            "_view_module": "@jupyter-widgets/controls",
            "_view_module_version": "1.5.0",
            "_view_name": "HTMLView",
            "description": "",
            "description_tooltip": null,
            "layout": "IPY_MODEL_ef0e6f7e4896444a82d03c2f6e4ab74d",
            "placeholder": "​",
            "style": "IPY_MODEL_96ec538b8a2e49a79c1a37953c051a3f",
            "value": " 160/160 [00:00&lt;00:00, 4.22kB/s]"
          }
        },
        "07f10238b74446e8b5b5fd76b8aba3a6": {
          "model_module": "@jupyter-widgets/base",
          "model_name": "LayoutModel",
          "model_module_version": "1.2.0",
          "state": {
            "_model_module": "@jupyter-widgets/base",
            "_model_module_version": "1.2.0",
            "_model_name": "LayoutModel",
            "_view_count": null,
            "_view_module": "@jupyter-widgets/base",
            "_view_module_version": "1.2.0",
            "_view_name": "LayoutView",
            "align_content": null,
            "align_items": null,
            "align_self": null,
            "border": null,
            "bottom": null,
            "display": null,
            "flex": null,
            "flex_flow": null,
            "grid_area": null,
            "grid_auto_columns": null,
            "grid_auto_flow": null,
            "grid_auto_rows": null,
            "grid_column": null,
            "grid_gap": null,
            "grid_row": null,
            "grid_template_areas": null,
            "grid_template_columns": null,
            "grid_template_rows": null,
            "height": null,
            "justify_content": null,
            "justify_items": null,
            "left": null,
            "margin": null,
            "max_height": null,
            "max_width": null,
            "min_height": null,
            "min_width": null,
            "object_fit": null,
            "object_position": null,
            "order": null,
            "overflow": null,
            "overflow_x": null,
            "overflow_y": null,
            "padding": null,
            "right": null,
            "top": null,
            "visibility": null,
            "width": null
          }
        },
        "3f7b20c678d54f208be26a3619f07b10": {
          "model_module": "@jupyter-widgets/base",
          "model_name": "LayoutModel",
          "model_module_version": "1.2.0",
          "state": {
            "_model_module": "@jupyter-widgets/base",
            "_model_module_version": "1.2.0",
            "_model_name": "LayoutModel",
            "_view_count": null,
            "_view_module": "@jupyter-widgets/base",
            "_view_module_version": "1.2.0",
            "_view_name": "LayoutView",
            "align_content": null,
            "align_items": null,
            "align_self": null,
            "border": null,
            "bottom": null,
            "display": null,
            "flex": null,
            "flex_flow": null,
            "grid_area": null,
            "grid_auto_columns": null,
            "grid_auto_flow": null,
            "grid_auto_rows": null,
            "grid_column": null,
            "grid_gap": null,
            "grid_row": null,
            "grid_template_areas": null,
            "grid_template_columns": null,
            "grid_template_rows": null,
            "height": null,
            "justify_content": null,
            "justify_items": null,
            "left": null,
            "margin": null,
            "max_height": null,
            "max_width": null,
            "min_height": null,
            "min_width": null,
            "object_fit": null,
            "object_position": null,
            "order": null,
            "overflow": null,
            "overflow_x": null,
            "overflow_y": null,
            "padding": null,
            "right": null,
            "top": null,
            "visibility": null,
            "width": null
          }
        },
        "991e403b40c0416987e382617840e906": {
          "model_module": "@jupyter-widgets/controls",
          "model_name": "DescriptionStyleModel",
          "model_module_version": "1.5.0",
          "state": {
            "_model_module": "@jupyter-widgets/controls",
            "_model_module_version": "1.5.0",
            "_model_name": "DescriptionStyleModel",
            "_view_count": null,
            "_view_module": "@jupyter-widgets/base",
            "_view_module_version": "1.2.0",
            "_view_name": "StyleView",
            "description_width": ""
          }
        },
        "6609457e7b0e480b84472983b63f0f6d": {
          "model_module": "@jupyter-widgets/base",
          "model_name": "LayoutModel",
          "model_module_version": "1.2.0",
          "state": {
            "_model_module": "@jupyter-widgets/base",
            "_model_module_version": "1.2.0",
            "_model_name": "LayoutModel",
            "_view_count": null,
            "_view_module": "@jupyter-widgets/base",
            "_view_module_version": "1.2.0",
            "_view_name": "LayoutView",
            "align_content": null,
            "align_items": null,
            "align_self": null,
            "border": null,
            "bottom": null,
            "display": null,
            "flex": null,
            "flex_flow": null,
            "grid_area": null,
            "grid_auto_columns": null,
            "grid_auto_flow": null,
            "grid_auto_rows": null,
            "grid_column": null,
            "grid_gap": null,
            "grid_row": null,
            "grid_template_areas": null,
            "grid_template_columns": null,
            "grid_template_rows": null,
            "height": null,
            "justify_content": null,
            "justify_items": null,
            "left": null,
            "margin": null,
            "max_height": null,
            "max_width": null,
            "min_height": null,
            "min_width": null,
            "object_fit": null,
            "object_position": null,
            "order": null,
            "overflow": null,
            "overflow_x": null,
            "overflow_y": null,
            "padding": null,
            "right": null,
            "top": null,
            "visibility": null,
            "width": null
          }
        },
        "f86ce829fd5e41dba0f104de685d8675": {
          "model_module": "@jupyter-widgets/controls",
          "model_name": "ProgressStyleModel",
          "model_module_version": "1.5.0",
          "state": {
            "_model_module": "@jupyter-widgets/controls",
            "_model_module_version": "1.5.0",
            "_model_name": "ProgressStyleModel",
            "_view_count": null,
            "_view_module": "@jupyter-widgets/base",
            "_view_module_version": "1.2.0",
            "_view_name": "StyleView",
            "bar_color": null,
            "description_width": ""
          }
        },
        "ef0e6f7e4896444a82d03c2f6e4ab74d": {
          "model_module": "@jupyter-widgets/base",
          "model_name": "LayoutModel",
          "model_module_version": "1.2.0",
          "state": {
            "_model_module": "@jupyter-widgets/base",
            "_model_module_version": "1.2.0",
            "_model_name": "LayoutModel",
            "_view_count": null,
            "_view_module": "@jupyter-widgets/base",
            "_view_module_version": "1.2.0",
            "_view_name": "LayoutView",
            "align_content": null,
            "align_items": null,
            "align_self": null,
            "border": null,
            "bottom": null,
            "display": null,
            "flex": null,
            "flex_flow": null,
            "grid_area": null,
            "grid_auto_columns": null,
            "grid_auto_flow": null,
            "grid_auto_rows": null,
            "grid_column": null,
            "grid_gap": null,
            "grid_row": null,
            "grid_template_areas": null,
            "grid_template_columns": null,
            "grid_template_rows": null,
            "height": null,
            "justify_content": null,
            "justify_items": null,
            "left": null,
            "margin": null,
            "max_height": null,
            "max_width": null,
            "min_height": null,
            "min_width": null,
            "object_fit": null,
            "object_position": null,
            "order": null,
            "overflow": null,
            "overflow_x": null,
            "overflow_y": null,
            "padding": null,
            "right": null,
            "top": null,
            "visibility": null,
            "width": null
          }
        },
        "96ec538b8a2e49a79c1a37953c051a3f": {
          "model_module": "@jupyter-widgets/controls",
          "model_name": "DescriptionStyleModel",
          "model_module_version": "1.5.0",
          "state": {
            "_model_module": "@jupyter-widgets/controls",
            "_model_module_version": "1.5.0",
            "_model_name": "DescriptionStyleModel",
            "_view_count": null,
            "_view_module": "@jupyter-widgets/base",
            "_view_module_version": "1.2.0",
            "_view_name": "StyleView",
            "description_width": ""
          }
        },
        "39d536d866ca4322917d391c06091963": {
          "model_module": "@jupyter-widgets/controls",
          "model_name": "HBoxModel",
          "model_module_version": "1.5.0",
          "state": {
            "_dom_classes": [],
            "_model_module": "@jupyter-widgets/controls",
            "_model_module_version": "1.5.0",
            "_model_name": "HBoxModel",
            "_view_count": null,
            "_view_module": "@jupyter-widgets/controls",
            "_view_module_version": "1.5.0",
            "_view_name": "HBoxView",
            "box_style": "",
            "children": [
              "IPY_MODEL_b7727751dd8a422fbd817e8c02ae6581",
              "IPY_MODEL_d47ec028c06e48f391fceacd853b28a3",
              "IPY_MODEL_1ca00e3faa954108b8205cf8f6a76f42"
            ],
            "layout": "IPY_MODEL_d3b735534773463caae686662a193d57"
          }
        },
        "b7727751dd8a422fbd817e8c02ae6581": {
          "model_module": "@jupyter-widgets/controls",
          "model_name": "HTMLModel",
          "model_module_version": "1.5.0",
          "state": {
            "_dom_classes": [],
            "_model_module": "@jupyter-widgets/controls",
            "_model_module_version": "1.5.0",
            "_model_name": "HTMLModel",
            "_view_count": null,
            "_view_module": "@jupyter-widgets/controls",
            "_view_module_version": "1.5.0",
            "_view_name": "HTMLView",
            "description": "",
            "description_tooltip": null,
            "layout": "IPY_MODEL_b8cc4322f9f5495eadccaa9a98086d39",
            "placeholder": "​",
            "style": "IPY_MODEL_2aee6cef14cc4bd895861d75dd480525",
            "value": "100%"
          }
        },
        "d47ec028c06e48f391fceacd853b28a3": {
          "model_module": "@jupyter-widgets/controls",
          "model_name": "FloatProgressModel",
          "model_module_version": "1.5.0",
          "state": {
            "_dom_classes": [],
            "_model_module": "@jupyter-widgets/controls",
            "_model_module_version": "1.5.0",
            "_model_name": "FloatProgressModel",
            "_view_count": null,
            "_view_module": "@jupyter-widgets/controls",
            "_view_module_version": "1.5.0",
            "_view_name": "ProgressView",
            "bar_style": "success",
            "description": "",
            "description_tooltip": null,
            "layout": "IPY_MODEL_de150fe72d1a48d9a01c3cceca91c46d",
            "max": 1,
            "min": 0,
            "orientation": "horizontal",
            "style": "IPY_MODEL_1752ad9ae8a342fea975ffe9f9a42b2b",
            "value": 1
          }
        },
        "1ca00e3faa954108b8205cf8f6a76f42": {
          "model_module": "@jupyter-widgets/controls",
          "model_name": "HTMLModel",
          "model_module_version": "1.5.0",
          "state": {
            "_dom_classes": [],
            "_model_module": "@jupyter-widgets/controls",
            "_model_module_version": "1.5.0",
            "_model_name": "HTMLModel",
            "_view_count": null,
            "_view_module": "@jupyter-widgets/controls",
            "_view_module_version": "1.5.0",
            "_view_name": "HTMLView",
            "description": "",
            "description_tooltip": null,
            "layout": "IPY_MODEL_cc43071a76164571b83642e4e85c1e33",
            "placeholder": "​",
            "style": "IPY_MODEL_5f56e51e2c7745b09d7854c9104a8a09",
            "value": " 1/1 [00:08&lt;00:00,  8.97s/ba]"
          }
        },
        "d3b735534773463caae686662a193d57": {
          "model_module": "@jupyter-widgets/base",
          "model_name": "LayoutModel",
          "model_module_version": "1.2.0",
          "state": {
            "_model_module": "@jupyter-widgets/base",
            "_model_module_version": "1.2.0",
            "_model_name": "LayoutModel",
            "_view_count": null,
            "_view_module": "@jupyter-widgets/base",
            "_view_module_version": "1.2.0",
            "_view_name": "LayoutView",
            "align_content": null,
            "align_items": null,
            "align_self": null,
            "border": null,
            "bottom": null,
            "display": null,
            "flex": null,
            "flex_flow": null,
            "grid_area": null,
            "grid_auto_columns": null,
            "grid_auto_flow": null,
            "grid_auto_rows": null,
            "grid_column": null,
            "grid_gap": null,
            "grid_row": null,
            "grid_template_areas": null,
            "grid_template_columns": null,
            "grid_template_rows": null,
            "height": null,
            "justify_content": null,
            "justify_items": null,
            "left": null,
            "margin": null,
            "max_height": null,
            "max_width": null,
            "min_height": null,
            "min_width": null,
            "object_fit": null,
            "object_position": null,
            "order": null,
            "overflow": null,
            "overflow_x": null,
            "overflow_y": null,
            "padding": null,
            "right": null,
            "top": null,
            "visibility": null,
            "width": null
          }
        },
        "b8cc4322f9f5495eadccaa9a98086d39": {
          "model_module": "@jupyter-widgets/base",
          "model_name": "LayoutModel",
          "model_module_version": "1.2.0",
          "state": {
            "_model_module": "@jupyter-widgets/base",
            "_model_module_version": "1.2.0",
            "_model_name": "LayoutModel",
            "_view_count": null,
            "_view_module": "@jupyter-widgets/base",
            "_view_module_version": "1.2.0",
            "_view_name": "LayoutView",
            "align_content": null,
            "align_items": null,
            "align_self": null,
            "border": null,
            "bottom": null,
            "display": null,
            "flex": null,
            "flex_flow": null,
            "grid_area": null,
            "grid_auto_columns": null,
            "grid_auto_flow": null,
            "grid_auto_rows": null,
            "grid_column": null,
            "grid_gap": null,
            "grid_row": null,
            "grid_template_areas": null,
            "grid_template_columns": null,
            "grid_template_rows": null,
            "height": null,
            "justify_content": null,
            "justify_items": null,
            "left": null,
            "margin": null,
            "max_height": null,
            "max_width": null,
            "min_height": null,
            "min_width": null,
            "object_fit": null,
            "object_position": null,
            "order": null,
            "overflow": null,
            "overflow_x": null,
            "overflow_y": null,
            "padding": null,
            "right": null,
            "top": null,
            "visibility": null,
            "width": null
          }
        },
        "2aee6cef14cc4bd895861d75dd480525": {
          "model_module": "@jupyter-widgets/controls",
          "model_name": "DescriptionStyleModel",
          "model_module_version": "1.5.0",
          "state": {
            "_model_module": "@jupyter-widgets/controls",
            "_model_module_version": "1.5.0",
            "_model_name": "DescriptionStyleModel",
            "_view_count": null,
            "_view_module": "@jupyter-widgets/base",
            "_view_module_version": "1.2.0",
            "_view_name": "StyleView",
            "description_width": ""
          }
        },
        "de150fe72d1a48d9a01c3cceca91c46d": {
          "model_module": "@jupyter-widgets/base",
          "model_name": "LayoutModel",
          "model_module_version": "1.2.0",
          "state": {
            "_model_module": "@jupyter-widgets/base",
            "_model_module_version": "1.2.0",
            "_model_name": "LayoutModel",
            "_view_count": null,
            "_view_module": "@jupyter-widgets/base",
            "_view_module_version": "1.2.0",
            "_view_name": "LayoutView",
            "align_content": null,
            "align_items": null,
            "align_self": null,
            "border": null,
            "bottom": null,
            "display": null,
            "flex": null,
            "flex_flow": null,
            "grid_area": null,
            "grid_auto_columns": null,
            "grid_auto_flow": null,
            "grid_auto_rows": null,
            "grid_column": null,
            "grid_gap": null,
            "grid_row": null,
            "grid_template_areas": null,
            "grid_template_columns": null,
            "grid_template_rows": null,
            "height": null,
            "justify_content": null,
            "justify_items": null,
            "left": null,
            "margin": null,
            "max_height": null,
            "max_width": null,
            "min_height": null,
            "min_width": null,
            "object_fit": null,
            "object_position": null,
            "order": null,
            "overflow": null,
            "overflow_x": null,
            "overflow_y": null,
            "padding": null,
            "right": null,
            "top": null,
            "visibility": null,
            "width": null
          }
        },
        "1752ad9ae8a342fea975ffe9f9a42b2b": {
          "model_module": "@jupyter-widgets/controls",
          "model_name": "ProgressStyleModel",
          "model_module_version": "1.5.0",
          "state": {
            "_model_module": "@jupyter-widgets/controls",
            "_model_module_version": "1.5.0",
            "_model_name": "ProgressStyleModel",
            "_view_count": null,
            "_view_module": "@jupyter-widgets/base",
            "_view_module_version": "1.2.0",
            "_view_name": "StyleView",
            "bar_color": null,
            "description_width": ""
          }
        },
        "cc43071a76164571b83642e4e85c1e33": {
          "model_module": "@jupyter-widgets/base",
          "model_name": "LayoutModel",
          "model_module_version": "1.2.0",
          "state": {
            "_model_module": "@jupyter-widgets/base",
            "_model_module_version": "1.2.0",
            "_model_name": "LayoutModel",
            "_view_count": null,
            "_view_module": "@jupyter-widgets/base",
            "_view_module_version": "1.2.0",
            "_view_name": "LayoutView",
            "align_content": null,
            "align_items": null,
            "align_self": null,
            "border": null,
            "bottom": null,
            "display": null,
            "flex": null,
            "flex_flow": null,
            "grid_area": null,
            "grid_auto_columns": null,
            "grid_auto_flow": null,
            "grid_auto_rows": null,
            "grid_column": null,
            "grid_gap": null,
            "grid_row": null,
            "grid_template_areas": null,
            "grid_template_columns": null,
            "grid_template_rows": null,
            "height": null,
            "justify_content": null,
            "justify_items": null,
            "left": null,
            "margin": null,
            "max_height": null,
            "max_width": null,
            "min_height": null,
            "min_width": null,
            "object_fit": null,
            "object_position": null,
            "order": null,
            "overflow": null,
            "overflow_x": null,
            "overflow_y": null,
            "padding": null,
            "right": null,
            "top": null,
            "visibility": null,
            "width": null
          }
        },
        "5f56e51e2c7745b09d7854c9104a8a09": {
          "model_module": "@jupyter-widgets/controls",
          "model_name": "DescriptionStyleModel",
          "model_module_version": "1.5.0",
          "state": {
            "_model_module": "@jupyter-widgets/controls",
            "_model_module_version": "1.5.0",
            "_model_name": "DescriptionStyleModel",
            "_view_count": null,
            "_view_module": "@jupyter-widgets/base",
            "_view_module_version": "1.2.0",
            "_view_name": "StyleView",
            "description_width": ""
          }
        },
        "f57b6a0fc20948168feabd949c68c203": {
          "model_module": "@jupyter-widgets/controls",
          "model_name": "HBoxModel",
          "model_module_version": "1.5.0",
          "state": {
            "_dom_classes": [],
            "_model_module": "@jupyter-widgets/controls",
            "_model_module_version": "1.5.0",
            "_model_name": "HBoxModel",
            "_view_count": null,
            "_view_module": "@jupyter-widgets/controls",
            "_view_module_version": "1.5.0",
            "_view_name": "HBoxView",
            "box_style": "",
            "children": [
              "IPY_MODEL_4c2567ab01de4fedb471356f9f4d103c",
              "IPY_MODEL_4d9b33c94c454447b8981b6d06b6c0be",
              "IPY_MODEL_1bda9013d7cf403896cfee9eb3700105"
            ],
            "layout": "IPY_MODEL_d8ba08b7ac064d4e84776bdc91acb852"
          }
        },
        "4c2567ab01de4fedb471356f9f4d103c": {
          "model_module": "@jupyter-widgets/controls",
          "model_name": "HTMLModel",
          "model_module_version": "1.5.0",
          "state": {
            "_dom_classes": [],
            "_model_module": "@jupyter-widgets/controls",
            "_model_module_version": "1.5.0",
            "_model_name": "HTMLModel",
            "_view_count": null,
            "_view_module": "@jupyter-widgets/controls",
            "_view_module_version": "1.5.0",
            "_view_name": "HTMLView",
            "description": "",
            "description_tooltip": null,
            "layout": "IPY_MODEL_918e65bd63f54ef09964ca04f2e16f65",
            "placeholder": "​",
            "style": "IPY_MODEL_9b6235300daf4b638c26659b20a0a3b9",
            "value": "Downloading: 100%"
          }
        },
        "4d9b33c94c454447b8981b6d06b6c0be": {
          "model_module": "@jupyter-widgets/controls",
          "model_name": "FloatProgressModel",
          "model_module_version": "1.5.0",
          "state": {
            "_dom_classes": [],
            "_model_module": "@jupyter-widgets/controls",
            "_model_module_version": "1.5.0",
            "_model_name": "FloatProgressModel",
            "_view_count": null,
            "_view_module": "@jupyter-widgets/controls",
            "_view_module_version": "1.5.0",
            "_view_name": "ProgressView",
            "bar_style": "success",
            "description": "",
            "description_tooltip": null,
            "layout": "IPY_MODEL_32ce1eef11a44bf5bada402d1aca085d",
            "max": 69665,
            "min": 0,
            "orientation": "horizontal",
            "style": "IPY_MODEL_fc024eeb8d4c4db8ba76299c510b0dad",
            "value": 69665
          }
        },
        "1bda9013d7cf403896cfee9eb3700105": {
          "model_module": "@jupyter-widgets/controls",
          "model_name": "HTMLModel",
          "model_module_version": "1.5.0",
          "state": {
            "_dom_classes": [],
            "_model_module": "@jupyter-widgets/controls",
            "_model_module_version": "1.5.0",
            "_model_name": "HTMLModel",
            "_view_count": null,
            "_view_module": "@jupyter-widgets/controls",
            "_view_module_version": "1.5.0",
            "_view_name": "HTMLView",
            "description": "",
            "description_tooltip": null,
            "layout": "IPY_MODEL_e75e510098ac49b8ae520f815e004f12",
            "placeholder": "​",
            "style": "IPY_MODEL_77312dbb8e1e48a18b23d5df8472bddd",
            "value": " 68.0k/68.0k [00:00&lt;00:00, 1.64MB/s]"
          }
        },
        "d8ba08b7ac064d4e84776bdc91acb852": {
          "model_module": "@jupyter-widgets/base",
          "model_name": "LayoutModel",
          "model_module_version": "1.2.0",
          "state": {
            "_model_module": "@jupyter-widgets/base",
            "_model_module_version": "1.2.0",
            "_model_name": "LayoutModel",
            "_view_count": null,
            "_view_module": "@jupyter-widgets/base",
            "_view_module_version": "1.2.0",
            "_view_name": "LayoutView",
            "align_content": null,
            "align_items": null,
            "align_self": null,
            "border": null,
            "bottom": null,
            "display": null,
            "flex": null,
            "flex_flow": null,
            "grid_area": null,
            "grid_auto_columns": null,
            "grid_auto_flow": null,
            "grid_auto_rows": null,
            "grid_column": null,
            "grid_gap": null,
            "grid_row": null,
            "grid_template_areas": null,
            "grid_template_columns": null,
            "grid_template_rows": null,
            "height": null,
            "justify_content": null,
            "justify_items": null,
            "left": null,
            "margin": null,
            "max_height": null,
            "max_width": null,
            "min_height": null,
            "min_width": null,
            "object_fit": null,
            "object_position": null,
            "order": null,
            "overflow": null,
            "overflow_x": null,
            "overflow_y": null,
            "padding": null,
            "right": null,
            "top": null,
            "visibility": null,
            "width": null
          }
        },
        "918e65bd63f54ef09964ca04f2e16f65": {
          "model_module": "@jupyter-widgets/base",
          "model_name": "LayoutModel",
          "model_module_version": "1.2.0",
          "state": {
            "_model_module": "@jupyter-widgets/base",
            "_model_module_version": "1.2.0",
            "_model_name": "LayoutModel",
            "_view_count": null,
            "_view_module": "@jupyter-widgets/base",
            "_view_module_version": "1.2.0",
            "_view_name": "LayoutView",
            "align_content": null,
            "align_items": null,
            "align_self": null,
            "border": null,
            "bottom": null,
            "display": null,
            "flex": null,
            "flex_flow": null,
            "grid_area": null,
            "grid_auto_columns": null,
            "grid_auto_flow": null,
            "grid_auto_rows": null,
            "grid_column": null,
            "grid_gap": null,
            "grid_row": null,
            "grid_template_areas": null,
            "grid_template_columns": null,
            "grid_template_rows": null,
            "height": null,
            "justify_content": null,
            "justify_items": null,
            "left": null,
            "margin": null,
            "max_height": null,
            "max_width": null,
            "min_height": null,
            "min_width": null,
            "object_fit": null,
            "object_position": null,
            "order": null,
            "overflow": null,
            "overflow_x": null,
            "overflow_y": null,
            "padding": null,
            "right": null,
            "top": null,
            "visibility": null,
            "width": null
          }
        },
        "9b6235300daf4b638c26659b20a0a3b9": {
          "model_module": "@jupyter-widgets/controls",
          "model_name": "DescriptionStyleModel",
          "model_module_version": "1.5.0",
          "state": {
            "_model_module": "@jupyter-widgets/controls",
            "_model_module_version": "1.5.0",
            "_model_name": "DescriptionStyleModel",
            "_view_count": null,
            "_view_module": "@jupyter-widgets/base",
            "_view_module_version": "1.2.0",
            "_view_name": "StyleView",
            "description_width": ""
          }
        },
        "32ce1eef11a44bf5bada402d1aca085d": {
          "model_module": "@jupyter-widgets/base",
          "model_name": "LayoutModel",
          "model_module_version": "1.2.0",
          "state": {
            "_model_module": "@jupyter-widgets/base",
            "_model_module_version": "1.2.0",
            "_model_name": "LayoutModel",
            "_view_count": null,
            "_view_module": "@jupyter-widgets/base",
            "_view_module_version": "1.2.0",
            "_view_name": "LayoutView",
            "align_content": null,
            "align_items": null,
            "align_self": null,
            "border": null,
            "bottom": null,
            "display": null,
            "flex": null,
            "flex_flow": null,
            "grid_area": null,
            "grid_auto_columns": null,
            "grid_auto_flow": null,
            "grid_auto_rows": null,
            "grid_column": null,
            "grid_gap": null,
            "grid_row": null,
            "grid_template_areas": null,
            "grid_template_columns": null,
            "grid_template_rows": null,
            "height": null,
            "justify_content": null,
            "justify_items": null,
            "left": null,
            "margin": null,
            "max_height": null,
            "max_width": null,
            "min_height": null,
            "min_width": null,
            "object_fit": null,
            "object_position": null,
            "order": null,
            "overflow": null,
            "overflow_x": null,
            "overflow_y": null,
            "padding": null,
            "right": null,
            "top": null,
            "visibility": null,
            "width": null
          }
        },
        "fc024eeb8d4c4db8ba76299c510b0dad": {
          "model_module": "@jupyter-widgets/controls",
          "model_name": "ProgressStyleModel",
          "model_module_version": "1.5.0",
          "state": {
            "_model_module": "@jupyter-widgets/controls",
            "_model_module_version": "1.5.0",
            "_model_name": "ProgressStyleModel",
            "_view_count": null,
            "_view_module": "@jupyter-widgets/base",
            "_view_module_version": "1.2.0",
            "_view_name": "StyleView",
            "bar_color": null,
            "description_width": ""
          }
        },
        "e75e510098ac49b8ae520f815e004f12": {
          "model_module": "@jupyter-widgets/base",
          "model_name": "LayoutModel",
          "model_module_version": "1.2.0",
          "state": {
            "_model_module": "@jupyter-widgets/base",
            "_model_module_version": "1.2.0",
            "_model_name": "LayoutModel",
            "_view_count": null,
            "_view_module": "@jupyter-widgets/base",
            "_view_module_version": "1.2.0",
            "_view_name": "LayoutView",
            "align_content": null,
            "align_items": null,
            "align_self": null,
            "border": null,
            "bottom": null,
            "display": null,
            "flex": null,
            "flex_flow": null,
            "grid_area": null,
            "grid_auto_columns": null,
            "grid_auto_flow": null,
            "grid_auto_rows": null,
            "grid_column": null,
            "grid_gap": null,
            "grid_row": null,
            "grid_template_areas": null,
            "grid_template_columns": null,
            "grid_template_rows": null,
            "height": null,
            "justify_content": null,
            "justify_items": null,
            "left": null,
            "margin": null,
            "max_height": null,
            "max_width": null,
            "min_height": null,
            "min_width": null,
            "object_fit": null,
            "object_position": null,
            "order": null,
            "overflow": null,
            "overflow_x": null,
            "overflow_y": null,
            "padding": null,
            "right": null,
            "top": null,
            "visibility": null,
            "width": null
          }
        },
        "77312dbb8e1e48a18b23d5df8472bddd": {
          "model_module": "@jupyter-widgets/controls",
          "model_name": "DescriptionStyleModel",
          "model_module_version": "1.5.0",
          "state": {
            "_model_module": "@jupyter-widgets/controls",
            "_model_module_version": "1.5.0",
            "_model_name": "DescriptionStyleModel",
            "_view_count": null,
            "_view_module": "@jupyter-widgets/base",
            "_view_module_version": "1.2.0",
            "_view_name": "StyleView",
            "description_width": ""
          }
        },
        "89ef7aea72724678b3601a6f257586b6": {
          "model_module": "@jupyter-widgets/controls",
          "model_name": "HBoxModel",
          "model_module_version": "1.5.0",
          "state": {
            "_dom_classes": [],
            "_model_module": "@jupyter-widgets/controls",
            "_model_module_version": "1.5.0",
            "_model_name": "HBoxModel",
            "_view_count": null,
            "_view_module": "@jupyter-widgets/controls",
            "_view_module_version": "1.5.0",
            "_view_name": "HBoxView",
            "box_style": "",
            "children": [
              "IPY_MODEL_7644dd2fc36741e1aa9c6efa724b021f",
              "IPY_MODEL_d33c150b684943f1af29fbc47e34b6f4",
              "IPY_MODEL_478a30c91f3044a5bfca2fa0bd82407a"
            ],
            "layout": "IPY_MODEL_73edfed7b0314915917338215644f587"
          }
        },
        "7644dd2fc36741e1aa9c6efa724b021f": {
          "model_module": "@jupyter-widgets/controls",
          "model_name": "HTMLModel",
          "model_module_version": "1.5.0",
          "state": {
            "_dom_classes": [],
            "_model_module": "@jupyter-widgets/controls",
            "_model_module_version": "1.5.0",
            "_model_name": "HTMLModel",
            "_view_count": null,
            "_view_module": "@jupyter-widgets/controls",
            "_view_module_version": "1.5.0",
            "_view_name": "HTMLView",
            "description": "",
            "description_tooltip": null,
            "layout": "IPY_MODEL_ea5e1d7a1e3c487e86c94a39d7c6490a",
            "placeholder": "​",
            "style": "IPY_MODEL_88213822a442476ba8b16b2d150a3f5c",
            "value": "Downloading: 100%"
          }
        },
        "d33c150b684943f1af29fbc47e34b6f4": {
          "model_module": "@jupyter-widgets/controls",
          "model_name": "FloatProgressModel",
          "model_module_version": "1.5.0",
          "state": {
            "_dom_classes": [],
            "_model_module": "@jupyter-widgets/controls",
            "_model_module_version": "1.5.0",
            "_model_name": "FloatProgressModel",
            "_view_count": null,
            "_view_module": "@jupyter-widgets/controls",
            "_view_module_version": "1.5.0",
            "_view_name": "ProgressView",
            "bar_style": "success",
            "description": "",
            "description_tooltip": null,
            "layout": "IPY_MODEL_68f970afa77c468abf9fa8782bd84cf5",
            "max": 346537664,
            "min": 0,
            "orientation": "horizontal",
            "style": "IPY_MODEL_6f1283e3c7a94aed8eda67653cdb5cfe",
            "value": 346537664
          }
        },
        "478a30c91f3044a5bfca2fa0bd82407a": {
          "model_module": "@jupyter-widgets/controls",
          "model_name": "HTMLModel",
          "model_module_version": "1.5.0",
          "state": {
            "_dom_classes": [],
            "_model_module": "@jupyter-widgets/controls",
            "_model_module_version": "1.5.0",
            "_model_name": "HTMLModel",
            "_view_count": null,
            "_view_module": "@jupyter-widgets/controls",
            "_view_module_version": "1.5.0",
            "_view_name": "HTMLView",
            "description": "",
            "description_tooltip": null,
            "layout": "IPY_MODEL_a983c13266c04402bdde6a132411a230",
            "placeholder": "​",
            "style": "IPY_MODEL_5e8b35abb416480a8419e4e32a152dcc",
            "value": " 330M/330M [00:07&lt;00:00, 44.6MB/s]"
          }
        },
        "73edfed7b0314915917338215644f587": {
          "model_module": "@jupyter-widgets/base",
          "model_name": "LayoutModel",
          "model_module_version": "1.2.0",
          "state": {
            "_model_module": "@jupyter-widgets/base",
            "_model_module_version": "1.2.0",
            "_model_name": "LayoutModel",
            "_view_count": null,
            "_view_module": "@jupyter-widgets/base",
            "_view_module_version": "1.2.0",
            "_view_name": "LayoutView",
            "align_content": null,
            "align_items": null,
            "align_self": null,
            "border": null,
            "bottom": null,
            "display": null,
            "flex": null,
            "flex_flow": null,
            "grid_area": null,
            "grid_auto_columns": null,
            "grid_auto_flow": null,
            "grid_auto_rows": null,
            "grid_column": null,
            "grid_gap": null,
            "grid_row": null,
            "grid_template_areas": null,
            "grid_template_columns": null,
            "grid_template_rows": null,
            "height": null,
            "justify_content": null,
            "justify_items": null,
            "left": null,
            "margin": null,
            "max_height": null,
            "max_width": null,
            "min_height": null,
            "min_width": null,
            "object_fit": null,
            "object_position": null,
            "order": null,
            "overflow": null,
            "overflow_x": null,
            "overflow_y": null,
            "padding": null,
            "right": null,
            "top": null,
            "visibility": null,
            "width": null
          }
        },
        "ea5e1d7a1e3c487e86c94a39d7c6490a": {
          "model_module": "@jupyter-widgets/base",
          "model_name": "LayoutModel",
          "model_module_version": "1.2.0",
          "state": {
            "_model_module": "@jupyter-widgets/base",
            "_model_module_version": "1.2.0",
            "_model_name": "LayoutModel",
            "_view_count": null,
            "_view_module": "@jupyter-widgets/base",
            "_view_module_version": "1.2.0",
            "_view_name": "LayoutView",
            "align_content": null,
            "align_items": null,
            "align_self": null,
            "border": null,
            "bottom": null,
            "display": null,
            "flex": null,
            "flex_flow": null,
            "grid_area": null,
            "grid_auto_columns": null,
            "grid_auto_flow": null,
            "grid_auto_rows": null,
            "grid_column": null,
            "grid_gap": null,
            "grid_row": null,
            "grid_template_areas": null,
            "grid_template_columns": null,
            "grid_template_rows": null,
            "height": null,
            "justify_content": null,
            "justify_items": null,
            "left": null,
            "margin": null,
            "max_height": null,
            "max_width": null,
            "min_height": null,
            "min_width": null,
            "object_fit": null,
            "object_position": null,
            "order": null,
            "overflow": null,
            "overflow_x": null,
            "overflow_y": null,
            "padding": null,
            "right": null,
            "top": null,
            "visibility": null,
            "width": null
          }
        },
        "88213822a442476ba8b16b2d150a3f5c": {
          "model_module": "@jupyter-widgets/controls",
          "model_name": "DescriptionStyleModel",
          "model_module_version": "1.5.0",
          "state": {
            "_model_module": "@jupyter-widgets/controls",
            "_model_module_version": "1.5.0",
            "_model_name": "DescriptionStyleModel",
            "_view_count": null,
            "_view_module": "@jupyter-widgets/base",
            "_view_module_version": "1.2.0",
            "_view_name": "StyleView",
            "description_width": ""
          }
        },
        "68f970afa77c468abf9fa8782bd84cf5": {
          "model_module": "@jupyter-widgets/base",
          "model_name": "LayoutModel",
          "model_module_version": "1.2.0",
          "state": {
            "_model_module": "@jupyter-widgets/base",
            "_model_module_version": "1.2.0",
            "_model_name": "LayoutModel",
            "_view_count": null,
            "_view_module": "@jupyter-widgets/base",
            "_view_module_version": "1.2.0",
            "_view_name": "LayoutView",
            "align_content": null,
            "align_items": null,
            "align_self": null,
            "border": null,
            "bottom": null,
            "display": null,
            "flex": null,
            "flex_flow": null,
            "grid_area": null,
            "grid_auto_columns": null,
            "grid_auto_flow": null,
            "grid_auto_rows": null,
            "grid_column": null,
            "grid_gap": null,
            "grid_row": null,
            "grid_template_areas": null,
            "grid_template_columns": null,
            "grid_template_rows": null,
            "height": null,
            "justify_content": null,
            "justify_items": null,
            "left": null,
            "margin": null,
            "max_height": null,
            "max_width": null,
            "min_height": null,
            "min_width": null,
            "object_fit": null,
            "object_position": null,
            "order": null,
            "overflow": null,
            "overflow_x": null,
            "overflow_y": null,
            "padding": null,
            "right": null,
            "top": null,
            "visibility": null,
            "width": null
          }
        },
        "6f1283e3c7a94aed8eda67653cdb5cfe": {
          "model_module": "@jupyter-widgets/controls",
          "model_name": "ProgressStyleModel",
          "model_module_version": "1.5.0",
          "state": {
            "_model_module": "@jupyter-widgets/controls",
            "_model_module_version": "1.5.0",
            "_model_name": "ProgressStyleModel",
            "_view_count": null,
            "_view_module": "@jupyter-widgets/base",
            "_view_module_version": "1.2.0",
            "_view_name": "StyleView",
            "bar_color": null,
            "description_width": ""
          }
        },
        "a983c13266c04402bdde6a132411a230": {
          "model_module": "@jupyter-widgets/base",
          "model_name": "LayoutModel",
          "model_module_version": "1.2.0",
          "state": {
            "_model_module": "@jupyter-widgets/base",
            "_model_module_version": "1.2.0",
            "_model_name": "LayoutModel",
            "_view_count": null,
            "_view_module": "@jupyter-widgets/base",
            "_view_module_version": "1.2.0",
            "_view_name": "LayoutView",
            "align_content": null,
            "align_items": null,
            "align_self": null,
            "border": null,
            "bottom": null,
            "display": null,
            "flex": null,
            "flex_flow": null,
            "grid_area": null,
            "grid_auto_columns": null,
            "grid_auto_flow": null,
            "grid_auto_rows": null,
            "grid_column": null,
            "grid_gap": null,
            "grid_row": null,
            "grid_template_areas": null,
            "grid_template_columns": null,
            "grid_template_rows": null,
            "height": null,
            "justify_content": null,
            "justify_items": null,
            "left": null,
            "margin": null,
            "max_height": null,
            "max_width": null,
            "min_height": null,
            "min_width": null,
            "object_fit": null,
            "object_position": null,
            "order": null,
            "overflow": null,
            "overflow_x": null,
            "overflow_y": null,
            "padding": null,
            "right": null,
            "top": null,
            "visibility": null,
            "width": null
          }
        },
        "5e8b35abb416480a8419e4e32a152dcc": {
          "model_module": "@jupyter-widgets/controls",
          "model_name": "DescriptionStyleModel",
          "model_module_version": "1.5.0",
          "state": {
            "_model_module": "@jupyter-widgets/controls",
            "_model_module_version": "1.5.0",
            "_model_name": "DescriptionStyleModel",
            "_view_count": null,
            "_view_module": "@jupyter-widgets/base",
            "_view_module_version": "1.2.0",
            "_view_name": "StyleView",
            "description_width": ""
          }
        }
      }
    }
  },
  "nbformat": 4,
  "nbformat_minor": 0
}